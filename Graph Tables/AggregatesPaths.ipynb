{
    "metadata": {
        "kernelspec": {
            "name": "SQL",
            "display_name": "SQL",
            "language": "sql"
        },
        "language_info": {
            "name": "sql",
            "version": ""
        }
    },
    "nbformat_minor": 2,
    "nbformat": 4,
    "cells": [
        {
            "cell_type": "markdown",
            "source": [
                "# Match Punto a Punto"
            ],
            "metadata": {
                "azdata_cell_guid": "4787f986-65b3-4a29-853f-624010f48ac0"
            }
        },
        {
            "cell_type": "code",
            "source": [
                "   Select a.StationName Source , v.ViaName, V.Distance, V.Color, B.stationName Destination from \n",
                "    dbo.Stations as a,\n",
                "    dbo.[Vias] as V,\n",
                "    dbo.Stations as B\n",
                "    where MATCH(a-(V)->b)"
            ],
            "metadata": {
                "azdata_cell_guid": "cda92cb3-aeb4-462c-82b4-cf325916f5de",
                "tags": [
                    "hide_input"
                ]
            },
            "outputs": [],
            "execution_count": null
        },
        {
            "cell_type": "markdown",
            "source": [
                "# Shortest Path para cada posible ruta."
            ],
            "metadata": {
                "azdata_cell_guid": "0657d5d2-0c83-4340-9463-669d04743728"
            }
        },
        {
            "cell_type": "code",
            "source": [
                "SELECT a.StationName AS DepartureStation\n",
                "    , LAST_VALUE(b.StationName) WITHIN\n",
                "GROUP (GRAPH PATH) AS [ArrivalStation]\n",
                "    , a.StationName + '->' + STRING_AGG(CONCAT(\n",
                "            b.StationName\n",
                "            , '('\n",
                "            , ViaName.Color\n",
                "            , ')'\n",
                "            ), '->') WITHIN\n",
                "GROUP (GRAPH PATH) AS [ViaPath]\n",
                "    , SUM([ViaName].Distance) WITHIN\n",
                "GROUP (GRAPH PATH) AS [Miles]\n",
                "FROM dbo.Stations a\n",
                "    , dbo.[Vias]\n",
                "FOR PATH [ViaName]\n",
                "    , dbo.Stations\n",
                "FOR PATH b\n",
                "WHERE a.StationName = 'Orocovis'  and MATCH(SHORTEST_PATH(a(- ([ViaName]) - > b) +))\n",
                "ORDER BY 1 ASC;\n",
                ""
            ],
            "metadata": {
                "azdata_cell_guid": "5a98bd6c-7423-490d-b79f-9e145082b200",
                "tags": []
            },
            "outputs": [
                {
                    "output_type": "display_data",
                    "data": {
                        "text/html": "(9 rows affected)"
                    },
                    "metadata": {}
                },
                {
                    "output_type": "display_data",
                    "data": {
                        "text/html": "Total execution time: 00:00:00.042"
                    },
                    "metadata": {}
                },
                {
                    "output_type": "execute_result",
                    "execution_count": 7,
                    "data": {
                        "application/vnd.dataresource+json": {
                            "schema": {
                                "fields": [
                                    {
                                        "name": "DepartureStation"
                                    },
                                    {
                                        "name": "ArrivalStation"
                                    },
                                    {
                                        "name": "ViaPath"
                                    },
                                    {
                                        "name": "Miles"
                                    }
                                ]
                            },
                            "data": [
                                {
                                    "0": "OROCOVIS",
                                    "1": "ARECIBO",
                                    "2": "OROCOVIS->ARECIBO(GREEN)",
                                    "3": "23"
                                },
                                {
                                    "0": "OROCOVIS",
                                    "1": "SALINAS",
                                    "2": "OROCOVIS->SALINAS(PURPLE)",
                                    "3": "21"
                                },
                                {
                                    "0": "OROCOVIS",
                                    "1": "ADJUNTAS",
                                    "2": "OROCOVIS->ADJUNTAS(PURPLE)",
                                    "3": "24"
                                },
                                {
                                    "0": "OROCOVIS",
                                    "1": "FAJARDO",
                                    "2": "OROCOVIS->SALINAS(PURPLE)->FAJARDO(RED)",
                                    "3": "73"
                                },
                                {
                                    "0": "OROCOVIS",
                                    "1": "SAN JUAN",
                                    "2": "OROCOVIS->SALINAS(PURPLE)->SAN JUAN(YELLOW)",
                                    "3": "61"
                                },
                                {
                                    "0": "OROCOVIS",
                                    "1": "AGUADILLA",
                                    "2": "OROCOVIS->ARECIBO(GREEN)->AGUADILLA(RED)",
                                    "3": "58"
                                },
                                {
                                    "0": "OROCOVIS",
                                    "1": "PONCE",
                                    "2": "OROCOVIS->ARECIBO(GREEN)->PONCE(YELLOW)",
                                    "3": "52"
                                },
                                {
                                    "0": "OROCOVIS",
                                    "1": "OROCOVIS",
                                    "2": "OROCOVIS->ARECIBO(GREEN)->OROCOVIS(GREEN)",
                                    "3": "46"
                                },
                                {
                                    "0": "OROCOVIS",
                                    "1": "CABO ROJO",
                                    "2": "OROCOVIS->ARECIBO(GREEN)->AGUADILLA(RED)->CABO ROJO(RED)",
                                    "3": "95"
                                }
                            ]
                        },
                        "text/html": "<table><tr><th>DepartureStation</th><th>ArrivalStation</th><th>ViaPath</th><th>Miles</th></tr><tr><td>OROCOVIS</td><td>ARECIBO</td><td>OROCOVIS-&gt;ARECIBO(GREEN)</td><td>23</td></tr><tr><td>OROCOVIS</td><td>SALINAS</td><td>OROCOVIS-&gt;SALINAS(PURPLE)</td><td>21</td></tr><tr><td>OROCOVIS</td><td>ADJUNTAS</td><td>OROCOVIS-&gt;ADJUNTAS(PURPLE)</td><td>24</td></tr><tr><td>OROCOVIS</td><td>FAJARDO</td><td>OROCOVIS-&gt;SALINAS(PURPLE)-&gt;FAJARDO(RED)</td><td>73</td></tr><tr><td>OROCOVIS</td><td>SAN JUAN</td><td>OROCOVIS-&gt;SALINAS(PURPLE)-&gt;SAN JUAN(YELLOW)</td><td>61</td></tr><tr><td>OROCOVIS</td><td>AGUADILLA</td><td>OROCOVIS-&gt;ARECIBO(GREEN)-&gt;AGUADILLA(RED)</td><td>58</td></tr><tr><td>OROCOVIS</td><td>PONCE</td><td>OROCOVIS-&gt;ARECIBO(GREEN)-&gt;PONCE(YELLOW)</td><td>52</td></tr><tr><td>OROCOVIS</td><td>OROCOVIS</td><td>OROCOVIS-&gt;ARECIBO(GREEN)-&gt;OROCOVIS(GREEN)</td><td>46</td></tr><tr><td>OROCOVIS</td><td>CABO ROJO</td><td>OROCOVIS-&gt;ARECIBO(GREEN)-&gt;AGUADILLA(RED)-&gt;CABO ROJO(RED)</td><td>95</td></tr></table>"
                    },
                    "metadata": {}
                }
            ],
            "execution_count": 7
        }
    ]
}