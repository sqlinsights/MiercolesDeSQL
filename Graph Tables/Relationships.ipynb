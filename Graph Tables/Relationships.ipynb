{
    "metadata": {
        "kernelspec": {
            "name": "SQL",
            "display_name": "SQL",
            "language": "sql"
        },
        "language_info": {
            "name": "sql",
            "version": ""
        }
    },
    "nbformat_minor": 2,
    "nbformat": 4,
    "cells": [
        {
            "cell_type": "markdown",
            "source": [
                "# Relaciones de Terceros\n",
                "## Metodo Tradicional"
            ],
            "metadata": {
                "azdata_cell_guid": "8b609024-352a-4a36-8c51-90a02c2de191"
            }
        },
        {
            "cell_type": "code",
            "source": [
                "SELECT P.FirstName\n",
                "\t, F.FirstName AS FriendName\n",
                "\t, R.RestaurantName\n",
                "\t, RPV.VisitDate\n",
                "FROM Traditional.Person P\n",
                "JOIN Traditional.FriendOf FO\n",
                "\tON FO.PersonID = P.PersonID\n",
                "JOIN Traditional.Person F\n",
                "\tON F.PersonID = FO.FriendID\n",
                "JOIN Traditional.RestaurantPersonVisit RPV\n",
                "\tON RPV.PersonID = F.PersonID\n",
                "JOIN Traditional.Restaurant R\n",
                "\tON R.RestaurantID = RPV.RestaurantID\n",
                "JOIN Traditional.RestaurantDish RD\n",
                "\tON RD.RestaurantID = R.RestaurantID\n",
                "JOIN Traditional.Dish D\n",
                "\tON D.DishID = RD.DishID\n",
                "WHERE P.FirstName = 'Carlos'\n",
                "\tAND D.DishName = 'Sushi Roll'"
            ],
            "metadata": {
                "azdata_cell_guid": "8fd7e867-bb54-4006-b9df-06a67583f147"
            },
            "outputs": [],
            "execution_count": null
        },
        {
            "cell_type": "markdown",
            "source": [
                "## Graph Tables"
            ],
            "metadata": {
                "azdata_cell_guid": "5824bdc9-7f96-48db-9ca0-98ff8e516902"
            }
        },
        {
            "cell_type": "code",
            "source": [
                "SELECT P.FirstName\n",
                "\t, F.FirstName AS FriendName\n",
                "\t, R.RestaurantName\n",
                "\t, RPV.VisitDate\n",
                "FROM Person P,\n",
                "FriendOf FO,\n",
                "Person F,\n",
                "RestaurantPersonVisit RPV,\n",
                "Restaurant R,\n",
                "RestaurantDish RD,\n",
                "Dish D\n",
                "WHERE P.FirstName = 'Carlos' and D.DishName = 'Sushi Roll' and match(p-(fo)->f-(rpv)->r-(rd)->d)\n",
                ""
            ],
            "metadata": {
                "azdata_cell_guid": "723c8910-9651-48b2-af80-3bce52265372",
                "tags": [
                    "hide_input"
                ]
            },
            "outputs": [
                {
                    "output_type": "display_data",
                    "data": {
                        "text/html": "(0 rows affected)"
                    },
                    "metadata": {}
                },
                {
                    "output_type": "execute_result",
                    "metadata": {},
                    "execution_count": 4,
                    "data": {
                        "application/vnd.dataresource+json": {
                            "schema": {
                                "fields": [
                                    {
                                        "name": "FirstName"
                                    },
                                    {
                                        "name": "FriendName"
                                    },
                                    {
                                        "name": "RestaurantName"
                                    },
                                    {
                                        "name": "VisitDate"
                                    }
                                ]
                            },
                            "data": []
                        },
                        "text/html": [
                            "<table>",
                            "<tr><th>FirstName</th><th>FriendName</th><th>RestaurantName</th><th>VisitDate</th></tr>",
                            "</table>"
                        ]
                    }
                },
                {
                    "output_type": "display_data",
                    "data": {
                        "text/html": "Total execution time: 00:00:00.015"
                    },
                    "metadata": {}
                }
            ],
            "execution_count": 4
        },
        {
            "cell_type": "markdown",
            "source": [
                "# match(p-(fo)->f-(rpv)->r-(rd)->d)"
            ],
            "metadata": {
                "azdata_cell_guid": "5c01e420-f88a-43e1-ae22-a8a3362700fb"
            }
        },
        {
            "cell_type": "code",
            "source": [
                "SELECT Distinct P.FirstName\n",
                "\t, F.FirstName AS FriendName\n",
                "\t, R.RestaurantName\n",
                "\t, RPV.VisitDate\n",
                "FROM Person P,\n",
                "FriendOf FO,\n",
                "Person F,\n",
                "RestaurantPersonVisit RPV,\n",
                "Restaurant R,\n",
                "RestaurantDish RD,\n",
                "Dish D\n",
                "WHERE  match(p-(fo)->f-(rpv)->r-(rd)->d)"
            ],
            "metadata": {
                "azdata_cell_guid": "768cec72-2d61-4239-bace-ea2de9d6eb2a",
                "tags": [
                    "hide_input"
                ]
            },
            "outputs": [
                {
                    "output_type": "display_data",
                    "data": {
                        "text/html": "(12 rows affected)"
                    },
                    "metadata": {}
                },
                {
                    "output_type": "display_data",
                    "data": {
                        "text/html": "Total execution time: 00:00:00.007"
                    },
                    "metadata": {}
                },
                {
                    "output_type": "execute_result",
                    "metadata": {},
                    "execution_count": 3,
                    "data": {
                        "application/vnd.dataresource+json": {
                            "schema": {
                                "fields": [
                                    {
                                        "name": "FirstName"
                                    },
                                    {
                                        "name": "FriendName"
                                    },
                                    {
                                        "name": "RestaurantName"
                                    },
                                    {
                                        "name": "VisitDate"
                                    }
                                ]
                            },
                            "data": [
                                {
                                    "0": "Carlos",
                                    "1": "Jessica",
                                    "2": "Sake Japan",
                                    "3": "2020-01-23"
                                },
                                {
                                    "0": "Carlos",
                                    "1": "Wanda",
                                    "2": "The Lounge",
                                    "3": "2019-09-30"
                                },
                                {
                                    "0": "Jessica",
                                    "1": "Carlos",
                                    "2": "Jimmy's Cafe",
                                    "3": "2019-02-15"
                                },
                                {
                                    "0": "Jose",
                                    "1": "Maria",
                                    "2": "La Cocina Puertorriqueña",
                                    "3": "2019-08-18"
                                },
                                {
                                    "0": "Jose",
                                    "1": "Wanda",
                                    "2": "The Lounge",
                                    "3": "2019-09-30"
                                },
                                {
                                    "0": "Luis",
                                    "1": "Jessica",
                                    "2": "Sake Japan",
                                    "3": "2020-01-23"
                                },
                                {
                                    "0": "Maria",
                                    "1": "Maria",
                                    "2": "La Cocina Puertorriqueña",
                                    "3": "2019-08-18"
                                },
                                {
                                    "0": "Maria",
                                    "1": "Wanda",
                                    "2": "The Lounge",
                                    "3": "2019-09-30"
                                },
                                {
                                    "0": "Wanda",
                                    "1": "Carlos",
                                    "2": "Jimmy's Cafe",
                                    "3": "2019-02-15"
                                },
                                {
                                    "0": "Wanda",
                                    "1": "Jose",
                                    "2": "Sake Japan",
                                    "3": "2020-04-13"
                                },
                                {
                                    "0": "Wanda",
                                    "1": "Jose",
                                    "2": "The Lounge",
                                    "3": "2020-05-01"
                                },
                                {
                                    "0": "Wanda",
                                    "1": "Maria",
                                    "2": "La Cocina Puertorriqueña",
                                    "3": "2019-08-18"
                                }
                            ]
                        },
                        "text/html": [
                            "<table>",
                            "<tr><th>FirstName</th><th>FriendName</th><th>RestaurantName</th><th>VisitDate</th></tr>",
                            "<tr><td>Carlos</td><td>Jessica</td><td>Sake Japan</td><td>2020-01-23</td></tr>",
                            "<tr><td>Carlos</td><td>Wanda</td><td>The Lounge</td><td>2019-09-30</td></tr>",
                            "<tr><td>Jessica</td><td>Carlos</td><td>Jimmy's Cafe</td><td>2019-02-15</td></tr>",
                            "<tr><td>Jose</td><td>Maria</td><td>La Cocina Puertorriqueña</td><td>2019-08-18</td></tr>",
                            "<tr><td>Jose</td><td>Wanda</td><td>The Lounge</td><td>2019-09-30</td></tr>",
                            "<tr><td>Luis</td><td>Jessica</td><td>Sake Japan</td><td>2020-01-23</td></tr>",
                            "<tr><td>Maria</td><td>Maria</td><td>La Cocina Puertorriqueña</td><td>2019-08-18</td></tr>",
                            "<tr><td>Maria</td><td>Wanda</td><td>The Lounge</td><td>2019-09-30</td></tr>",
                            "<tr><td>Wanda</td><td>Carlos</td><td>Jimmy's Cafe</td><td>2019-02-15</td></tr>",
                            "<tr><td>Wanda</td><td>Jose</td><td>Sake Japan</td><td>2020-04-13</td></tr>",
                            "<tr><td>Wanda</td><td>Jose</td><td>The Lounge</td><td>2020-05-01</td></tr>",
                            "<tr><td>Wanda</td><td>Maria</td><td>La Cocina Puertorriqueña</td><td>2019-08-18</td></tr>",
                            "</table>"
                        ]
                    }
                }
            ],
            "execution_count": 3
        },
        {
            "cell_type": "code",
            "source": [
                "Select Distinct R.RestaurantName, D.DishName from Restaurant R, RestaurantDish RD, Dish D\n",
                "where match(R-(RD)->D)"
            ],
            "metadata": {
                "azdata_cell_guid": "c29ee982-dca3-4cad-9194-b675dd3783f8"
            },
            "outputs": [
                {
                    "output_type": "display_data",
                    "data": {
                        "text/html": "(11 rows affected)"
                    },
                    "metadata": {}
                },
                {
                    "output_type": "display_data",
                    "data": {
                        "text/html": "Total execution time: 00:00:00.009"
                    },
                    "metadata": {}
                },
                {
                    "output_type": "execute_result",
                    "metadata": {},
                    "execution_count": 6,
                    "data": {
                        "application/vnd.dataresource+json": {
                            "schema": {
                                "fields": [
                                    {
                                        "name": "RestaurantName"
                                    },
                                    {
                                        "name": "DishName"
                                    }
                                ]
                            },
                            "data": [
                                {
                                    "0": "Jimmy's Cafe",
                                    "1": "Arroz con Pollo"
                                },
                                {
                                    "0": "Jimmy's Cafe",
                                    "1": "BLT Sandwich"
                                },
                                {
                                    "0": "Jimmy's Cafe",
                                    "1": "Steak Sandwich"
                                },
                                {
                                    "0": "La Cocina Puertorriqueña",
                                    "1": "Mofongo"
                                },
                                {
                                    "0": "La Cocina Puertorriqueña",
                                    "1": "Stuffed Peppers"
                                },
                                {
                                    "0": "Sake Japan",
                                    "1": "Egg Drop Soup"
                                },
                                {
                                    "0": "Sake Japan",
                                    "1": "Egg Roll"
                                },
                                {
                                    "0": "Sake Japan",
                                    "1": "Short Ribs"
                                },
                                {
                                    "0": "Sake Japan",
                                    "1": "Sushi Roll"
                                },
                                {
                                    "0": "The Lounge",
                                    "1": "BLT Sandwich"
                                },
                                {
                                    "0": "The Lounge",
                                    "1": "Steak Sandwich"
                                }
                            ]
                        },
                        "text/html": [
                            "<table>",
                            "<tr><th>RestaurantName</th><th>DishName</th></tr>",
                            "<tr><td>Jimmy's Cafe</td><td>Arroz con Pollo</td></tr>",
                            "<tr><td>Jimmy's Cafe</td><td>BLT Sandwich</td></tr>",
                            "<tr><td>Jimmy's Cafe</td><td>Steak Sandwich</td></tr>",
                            "<tr><td>La Cocina Puertorriqueña</td><td>Mofongo</td></tr>",
                            "<tr><td>La Cocina Puertorriqueña</td><td>Stuffed Peppers</td></tr>",
                            "<tr><td>Sake Japan</td><td>Egg Drop Soup</td></tr>",
                            "<tr><td>Sake Japan</td><td>Egg Roll</td></tr>",
                            "<tr><td>Sake Japan</td><td>Short Ribs</td></tr>",
                            "<tr><td>Sake Japan</td><td>Sushi Roll</td></tr>",
                            "<tr><td>The Lounge</td><td>BLT Sandwich</td></tr>",
                            "<tr><td>The Lounge</td><td>Steak Sandwich</td></tr>",
                            "</table>"
                        ]
                    }
                }
            ],
            "execution_count": 6
        },
        {
            "cell_type": "markdown",
            "source": [
                ""
            ],
            "metadata": {
                "azdata_cell_guid": "ed28830d-d71e-4622-87c0-c8b3242b762c"
            }
        }
    ]
}