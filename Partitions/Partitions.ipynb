{
    "metadata": {
        "kernelspec": {
            "name": "SQL",
            "display_name": "SQL",
            "language": "sql"
        },
        "language_info": {
            "name": "sql",
            "version": ""
        }
    },
    "nbformat_minor": 2,
    "nbformat": 4,
    "cells": [
        {
            "cell_type": "markdown",
            "source": [
                "# Tablas Particionadas\n",
                "\n",
                "## Crear base de Datos"
            ],
            "metadata": {
                "azdata_cell_guid": "4014b710-bbf2-42a6-9fa8-ad10e174a654"
            }
        },
        {
            "cell_type": "code",
            "source": [
                "USE master;\n",
                "GO\n",
                "\n",
                "IF NOT EXISTS (\n",
                "\t\tSELECT 1\n",
                "\t\tFROM sys.databases\n",
                "\t\tWHERE name = 'PartitionedData'\n",
                "\t\t)\n",
                "BEGIN\n",
                "\tCREATE DATABASE PartitionedData ON (\n",
                "\t\tNAME = PartitionedData_DATA\n",
                "\t\t, FILENAME = '/var/opt/mssql/data/PartitionedData_DATA.mdf'\n",
                "\t\t, SIZE = 10\n",
                "\t\t, MAXSIZE = 500 MB\n",
                "\t\t, FILEGROWTH = 5\n",
                "\t\t) LOG ON (\n",
                "\t\tNAME = PartitionedData_LOG\n",
                "\t\t, FILENAME = '/var/opt/mssql/data/PartitionedData_LOG.ldf'\n",
                "\t\t, SIZE = 5 MB\n",
                "\t\t, MAXSIZE = 1 GB\n",
                "\t\t, FILEGROWTH = 5 MB\n",
                "\t\t);\n",
                "END\n",
                "\n",
                "USE PartitionedData\n",
                ""
            ],
            "metadata": {
                "azdata_cell_guid": "3db398a9-d971-446a-8b30-f3799efb1d8c",
                "tags": []
            },
            "outputs": [
                {
                    "output_type": "display_data",
                    "data": {
                        "text/html": "Commands completed successfully."
                    },
                    "metadata": {}
                },
                {
                    "output_type": "display_data",
                    "data": {
                        "text/html": "Commands completed successfully."
                    },
                    "metadata": {}
                },
                {
                    "output_type": "display_data",
                    "data": {
                        "text/html": "Total execution time: 00:00:00.020"
                    },
                    "metadata": {}
                }
            ],
            "execution_count": 38
        },
        {
            "cell_type": "code",
            "source": [
                "CREATE TABLE dbo.SalesOrder (\n",
                "\tSalesOrderID INT IDENTITY(1, 1) CONSTRAINT PK_SalesOrder_SalesOrderID PRIMARY KEY\n",
                "\t, SalesUniqueID UNIQUEIDENTIFIER CONSTRAINT DF_SalesOrder_SalesUniqueID DEFAULT NEWID()\n",
                "\t, OrderDate DATE\n",
                "\t, SellerID INT\n",
                "    , CompanyID INT\n",
                "\t)\n",
                ""
            ],
            "metadata": {
                "azdata_cell_guid": "d76143b4-b56c-48fa-9063-d0112fffab05",
                "tags": []
            },
            "outputs": [
                {
                    "output_type": "display_data",
                    "data": {
                        "text/html": "Commands completed successfully."
                    },
                    "metadata": {}
                },
                {
                    "output_type": "display_data",
                    "data": {
                        "text/html": "Total execution time: 00:00:00.004"
                    },
                    "metadata": {}
                }
            ],
            "execution_count": 39
        },
        {
            "cell_type": "code",
            "source": [
                "DECLARE @CompanyFoundedDate DATE = '2009-02-10'\n",
                "DECLARE @DaysToToday INT = DATEDIFF(DAY, @CompanyFoundedDate, GetDate())\n",
                "DECLARE @LoopStep INT = 1\n",
                "\t\t,@LoopTotal int = 10000\n",
                "\n",
                "WHILE @LoopStep <= @LoopTotal\n",
                "BEGIN\n",
                "INSERT INTO dbo.SalesOrder (\n",
                "\t  OrderDate\n",
                "\t, SellerID\n",
                "\t, CompanyID\n",
                "\t)\n",
                "SELECT DATEADD(DAY, ABS(CHECKSUM(NewId())) % @DaysToToday, @CompanyFoundedDate)\n",
                "\t, ABS(CHECKSUM(NewId())) % 25\n",
                "\t, ABS(CHECKSUM(NewId())) % 1000\n",
                "UNION\n",
                "SELECT DATEADD(DAY, ABS(CHECKSUM(NewId())) % @DaysToToday, @CompanyFoundedDate)\n",
                "\t, ABS(CHECKSUM(NewId())) % 25\n",
                "\t, ABS(CHECKSUM(NewId())) % 1000\n",
                "UNION\n",
                "SELECT DATEADD(DAY, ABS(CHECKSUM(NewId())) % @DaysToToday, @CompanyFoundedDate)\n",
                "\t, ABS(CHECKSUM(NewId())) % 25\n",
                "\t, ABS(CHECKSUM(NewId())) % 1000\n",
                "UNION\n",
                "SELECT DATEADD(DAY, ABS(CHECKSUM(NewId())) % @DaysToToday, @CompanyFoundedDate)\n",
                "\t, ABS(CHECKSUM(NewId())) % 25\n",
                "\t, ABS(CHECKSUM(NewId())) % 1000\n",
                "UNION\n",
                "SELECT DATEADD(DAY, ABS(CHECKSUM(NewId())) % @DaysToToday, @CompanyFoundedDate)\n",
                "\t, ABS(CHECKSUM(NewId())) % 25\n",
                "\t, ABS(CHECKSUM(NewId())) % 1000\n",
                "UNION\n",
                "SELECT DATEADD(DAY, ABS(CHECKSUM(NewId())) % @DaysToToday, @CompanyFoundedDate)\n",
                "\t, ABS(CHECKSUM(NewId())) % 25\n",
                "\t, ABS(CHECKSUM(NewId())) % 1000\n",
                "UNION\n",
                "SELECT DATEADD(DAY, ABS(CHECKSUM(NewId())) % @DaysToToday, @CompanyFoundedDate)\n",
                "\t, ABS(CHECKSUM(NewId())) % 25\n",
                "\t, ABS(CHECKSUM(NewId())) % 1000\n",
                "UNION\n",
                "SELECT DATEADD(DAY, ABS(CHECKSUM(NewId())) % @DaysToToday, @CompanyFoundedDate)\n",
                "\t, ABS(CHECKSUM(NewId())) % 25\n",
                "\t, ABS(CHECKSUM(NewId())) % 1000\n",
                "UNION\n",
                "SELECT DATEADD(DAY, ABS(CHECKSUM(NewId())) % @DaysToToday, @CompanyFoundedDate)\n",
                "\t, ABS(CHECKSUM(NewId())) % 25\n",
                "\t, ABS(CHECKSUM(NewId())) % 1000\n",
                "UNION\n",
                "SELECT DATEADD(DAY, ABS(CHECKSUM(NewId())) % @DaysToToday, @CompanyFoundedDate)\n",
                "\t, ABS(CHECKSUM(NewId())) % 25\n",
                "\t, ABS(CHECKSUM(NewId())) % 1000\n",
                "\tset @LoopStep = @LoopStep +1\n",
                "END"
            ],
            "metadata": {
                "azdata_cell_guid": "6db7533c-3010-41b2-90e8-cd3c36c1624c",
                "tags": []
            },
            "outputs": [],
            "execution_count": null
        },
        {
            "cell_type": "code",
            "source": [
                "Select count(1) from salesorder"
            ],
            "metadata": {
                "azdata_cell_guid": "d0f87f5d-fd48-4624-8348-c0f9eb8c0946",
                "tags": [
                    "hide_input"
                ]
            },
            "outputs": [
                {
                    "output_type": "display_data",
                    "data": {
                        "text/html": "(1 row affected)"
                    },
                    "metadata": {}
                },
                {
                    "output_type": "display_data",
                    "data": {
                        "text/html": "Total execution time: 00:00:00.067"
                    },
                    "metadata": {}
                },
                {
                    "output_type": "execute_result",
                    "metadata": {},
                    "execution_count": 1,
                    "data": {
                        "application/vnd.dataresource+json": {
                            "schema": {
                                "fields": [
                                    {
                                        "name": "(No column name)"
                                    }
                                ]
                            },
                            "data": [
                                {
                                    "0": "100000"
                                }
                            ]
                        },
                        "text/html": [
                            "<table>",
                            "<tr><th>(No column name)</th></tr>",
                            "<tr><td>100000</td></tr>",
                            "</table>"
                        ]
                    },
                    "batchId": 0,
                    "id": 0,
                    "queryRunnerUri": "queryRunner-untitled:notebook-editor-4"
                }
            ],
            "execution_count": 1
        },
        {
            "cell_type": "code",
            "source": [
                "set statistics io ON\n",
                "\n",
                "SELECT * FROM SalesOrder where SellerID = 12 and OrderDate BETWEEN '2014-01-01' and '2014-12-31'"
            ],
            "metadata": {
                "azdata_cell_guid": "db1f7b69-cbc5-47cb-b850-aea65aad417c",
                "tags": []
            },
            "outputs": [],
            "execution_count": null
        },
        {
            "cell_type": "code",
            "source": [
                "ALTER DATABASE PartitionedData\n",
                "ADD FILEGROUP Sales2009\n",
                "\n",
                "ALTER DATABASE PartitionedData\n",
                "ADD FILEGROUP Sales2010\n",
                "\n",
                "ALTER DATABASE PartitionedData\n",
                "ADD FILEGROUP Sales2011\n",
                "\n",
                "ALTER DATABASE PartitionedData\n",
                "ADD FILEGROUP Sales2012\n",
                "\n",
                "ALTER DATABASE PartitionedData\n",
                "ADD FILEGROUP Sales2013\n",
                "\n",
                "ALTER DATABASE PartitionedData\n",
                "ADD FILEGROUP Sales2014\n",
                "\n",
                "ALTER DATABASE PartitionedData\n",
                "ADD FILEGROUP Sales2015\n",
                "\n",
                "ALTER DATABASE PartitionedData\n",
                "ADD FILEGROUP Sales2016\n",
                "\n",
                "ALTER DATABASE PartitionedData\n",
                "ADD FILEGROUP Sales2017\n",
                "\n",
                "ALTER DATABASE PartitionedData\n",
                "ADD FILEGROUP Sales2018\n",
                "\n",
                "ALTER DATABASE PartitionedData\n",
                "ADD FILEGROUP Sales2019\n",
                "\n",
                "ALTER DATABASE PartitionedData\n",
                "ADD FILEGROUP Sales2020\n",
                "\n",
                ""
            ],
            "metadata": {
                "azdata_cell_guid": "8cadbed4-3a87-42b2-8c01-d23b27f375d0",
                "tags": []
            },
            "outputs": [
                {
                    "output_type": "display_data",
                    "data": {
                        "text/html": "Commands completed successfully."
                    },
                    "metadata": {}
                },
                {
                    "output_type": "display_data",
                    "data": {
                        "text/html": "Total execution time: 00:00:00.019"
                    },
                    "metadata": {}
                }
            ],
            "execution_count": 2
        },
        {
            "cell_type": "code",
            "source": [
                "SELECT name AS AvailableFilegroups\n",
                "FROM sys.filegroups\n",
                "WHERE type = 'FG'"
            ],
            "metadata": {
                "azdata_cell_guid": "592c93bb-e9c2-4016-ada9-516528c444a4",
                "tags": []
            },
            "outputs": [
                {
                    "output_type": "display_data",
                    "data": {
                        "text/html": "(13 rows affected)"
                    },
                    "metadata": {}
                },
                {
                    "output_type": "display_data",
                    "data": {
                        "text/html": "Total execution time: 00:00:00.011"
                    },
                    "metadata": {}
                },
                {
                    "output_type": "execute_result",
                    "metadata": {},
                    "execution_count": 3,
                    "data": {
                        "application/vnd.dataresource+json": {
                            "schema": {
                                "fields": [
                                    {
                                        "name": "AvailableFilegroups"
                                    }
                                ]
                            },
                            "data": [
                                {
                                    "0": "PRIMARY"
                                },
                                {
                                    "0": "Sales2009"
                                },
                                {
                                    "0": "Sales2010"
                                },
                                {
                                    "0": "Sales2011"
                                },
                                {
                                    "0": "Sales2012"
                                },
                                {
                                    "0": "Sales2013"
                                },
                                {
                                    "0": "Sales2014"
                                },
                                {
                                    "0": "Sales2015"
                                },
                                {
                                    "0": "Sales2016"
                                },
                                {
                                    "0": "Sales2017"
                                },
                                {
                                    "0": "Sales2018"
                                },
                                {
                                    "0": "Sales2019"
                                },
                                {
                                    "0": "Sales2020"
                                }
                            ]
                        },
                        "text/html": [
                            "<table>",
                            "<tr><th>AvailableFilegroups</th></tr>",
                            "<tr><td>PRIMARY</td></tr>",
                            "<tr><td>Sales2009</td></tr>",
                            "<tr><td>Sales2010</td></tr>",
                            "<tr><td>Sales2011</td></tr>",
                            "<tr><td>Sales2012</td></tr>",
                            "<tr><td>Sales2013</td></tr>",
                            "<tr><td>Sales2014</td></tr>",
                            "<tr><td>Sales2015</td></tr>",
                            "<tr><td>Sales2016</td></tr>",
                            "<tr><td>Sales2017</td></tr>",
                            "<tr><td>Sales2018</td></tr>",
                            "<tr><td>Sales2019</td></tr>",
                            "<tr><td>Sales2020</td></tr>",
                            "</table>"
                        ]
                    },
                    "batchId": 0,
                    "id": 0,
                    "queryRunnerUri": "queryRunner-untitled:notebook-editor-7"
                }
            ],
            "execution_count": 3
        },
        {
            "cell_type": "code",
            "source": [
                "DECLARE @FilegroupName SYSNAME\n",
                "\t, @FilesPath VARCHAR(200) = '/var/opt/mssql/data/'\n",
                "\n",
                "DECLARE FileCreation CURSOR\n",
                "FOR\n",
                "(\n",
                "\t\tSELECT name AS AvailableFilegroups\n",
                "\t\tFROM sys.filegroups\n",
                "\t\tWHERE type = 'FG'\n",
                "\t\t\tAND name <> 'Primary'\n",
                "\t\t)\n",
                "\n",
                "OPEN FileCreation\n",
                "\n",
                "FETCH NEXT\n",
                "FROM FileCreation\n",
                "INTO @FileGroupName\n",
                "\n",
                "WHILE @@FETCH_STATUS = 0\n",
                "BEGIN\n",
                "\tDECLARE @CMD NVARCHAR(MAX) = CONCAT (\n",
                "\t\t\t'ALTER DATABASE PartitionedData\n",
                "ADD FILE\n",
                "(NAME = [Partition'\n",
                "\t\t\t, @FileGroupName\n",
                "\t\t\t, ']\n",
                ",FILENAME = '''\n",
                "\t\t\t, @FilesPath\n",
                "\t\t\t, 'Partition'\n",
                "\t\t\t, @FileGroupName\n",
                "\t\t\t, '.ndf'') TO FILEGROUP [',@FileGroupName,']'\n",
                "\t\t\t)\n",
                "\n",
                "\tEXEC SP_EXECUTESQL @Command1 = @CMD\n",
                "\n",
                "\tFETCH NEXT\n",
                "\tFROM FileCreation\n",
                "\tINTO @FileGroupName\n",
                "END\n",
                ""
            ],
            "metadata": {
                "azdata_cell_guid": "6826c2dc-4600-4f04-9db1-41c7c5d61ce5",
                "tags": []
            },
            "outputs": [
                {
                    "output_type": "display_data",
                    "data": {
                        "text/html": "Commands completed successfully."
                    },
                    "metadata": {}
                },
                {
                    "output_type": "display_data",
                    "data": {
                        "text/html": "Total execution time: 00:00:05.096"
                    },
                    "metadata": {}
                }
            ],
            "execution_count": 4
        },
        {
            "cell_type": "code",
            "source": [
                "sp_helpdb PartitionedData"
            ],
            "metadata": {
                "azdata_cell_guid": "350f7221-56f3-4200-a87b-fbb94e01a498",
                "tags": [
                    "hide_input"
                ]
            },
            "outputs": [
                {
                    "output_type": "display_data",
                    "data": {
                        "text/html": " "
                    },
                    "metadata": {}
                },
                {
                    "output_type": "display_data",
                    "data": {
                        "text/html": "Total execution time: 00:00:00.066"
                    },
                    "metadata": {}
                },
                {
                    "output_type": "execute_result",
                    "metadata": {},
                    "execution_count": 5,
                    "data": {
                        "application/vnd.dataresource+json": {
                            "schema": {
                                "fields": [
                                    {
                                        "name": "name"
                                    },
                                    {
                                        "name": "db_size"
                                    },
                                    {
                                        "name": "owner"
                                    },
                                    {
                                        "name": "dbid"
                                    },
                                    {
                                        "name": "created"
                                    },
                                    {
                                        "name": "status"
                                    },
                                    {
                                        "name": "compatibility_level"
                                    }
                                ]
                            },
                            "data": [
                                {
                                    "0": "PartitionedData",
                                    "1": "    166.00 MB",
                                    "2": "sa",
                                    "3": "10",
                                    "4": "Oct  7 2020",
                                    "5": "Status=ONLINE, Updateability=READ_WRITE, UserAccess=MULTI_USER, Recovery=FULL, Version=904, Collation=SQL_Latin1_General_CP1_CI_AS, SQLSortOrder=52, IsAutoCreateStatistics, IsAutoUpdateStatistics, IsFullTextEnabled",
                                    "6": "150"
                                }
                            ]
                        },
                        "text/html": [
                            "<table>",
                            "<tr><th>name</th><th>db_size</th><th>owner</th><th>dbid</th><th>created</th><th>status</th><th>compatibility_level</th></tr>",
                            "<tr><td>PartitionedData</td><td>    166.00 MB</td><td>sa</td><td>10</td><td>Oct  7 2020</td><td>Status=ONLINE, Updateability=READ_WRITE, UserAccess=MULTI_USER, Recovery=FULL, Version=904, Collation=SQL_Latin1_General_CP1_CI_AS, SQLSortOrder=52, IsAutoCreateStatistics, IsAutoUpdateStatistics, IsFullTextEnabled</td><td>150</td></tr>",
                            "</table>"
                        ]
                    },
                    "batchId": 0,
                    "id": 0,
                    "queryRunnerUri": "queryRunner-untitled:notebook-editor-9"
                },
                {
                    "output_type": "execute_result",
                    "metadata": {},
                    "execution_count": 5,
                    "data": {
                        "application/vnd.dataresource+json": {
                            "schema": {
                                "fields": [
                                    {
                                        "name": "name"
                                    },
                                    {
                                        "name": "fileid"
                                    },
                                    {
                                        "name": "filename"
                                    },
                                    {
                                        "name": "filegroup"
                                    },
                                    {
                                        "name": "size"
                                    },
                                    {
                                        "name": "maxsize"
                                    },
                                    {
                                        "name": "growth"
                                    },
                                    {
                                        "name": "usage"
                                    }
                                ]
                            },
                            "data": [
                                {
                                    "0": "PartitionedData_DATA",
                                    "1": "1",
                                    "2": "/var/opt/mssql/data/PartitionedData_DATA.mdf",
                                    "3": "PRIMARY",
                                    "4": "46080 KB",
                                    "5": "51200 KB",
                                    "6": "5120 KB",
                                    "7": "data only"
                                },
                                {
                                    "0": "PartitionedData_LOG",
                                    "1": "2",
                                    "2": "/var/opt/mssql/data/PartitionedData_LOG.ldf",
                                    "3": "NULL",
                                    "4": "25600 KB",
                                    "5": "25600 KB",
                                    "6": "5120 KB",
                                    "7": "log only"
                                },
                                {
                                    "0": "PartitionSales2009",
                                    "1": "3",
                                    "2": "/var/opt/mssql/data/PartitionSales2009.ndf",
                                    "3": "Sales2009",
                                    "4": "8192 KB",
                                    "5": "Unlimited",
                                    "6": "65536 KB",
                                    "7": "data only"
                                },
                                {
                                    "0": "PartitionSales2010",
                                    "1": "4",
                                    "2": "/var/opt/mssql/data/PartitionSales2010.ndf",
                                    "3": "Sales2010",
                                    "4": "8192 KB",
                                    "5": "Unlimited",
                                    "6": "65536 KB",
                                    "7": "data only"
                                },
                                {
                                    "0": "PartitionSales2011",
                                    "1": "5",
                                    "2": "/var/opt/mssql/data/PartitionSales2011.ndf",
                                    "3": "Sales2011",
                                    "4": "8192 KB",
                                    "5": "Unlimited",
                                    "6": "65536 KB",
                                    "7": "data only"
                                },
                                {
                                    "0": "PartitionSales2012",
                                    "1": "6",
                                    "2": "/var/opt/mssql/data/PartitionSales2012.ndf",
                                    "3": "Sales2012",
                                    "4": "8192 KB",
                                    "5": "Unlimited",
                                    "6": "65536 KB",
                                    "7": "data only"
                                },
                                {
                                    "0": "PartitionSales2013",
                                    "1": "7",
                                    "2": "/var/opt/mssql/data/PartitionSales2013.ndf",
                                    "3": "Sales2013",
                                    "4": "8192 KB",
                                    "5": "Unlimited",
                                    "6": "65536 KB",
                                    "7": "data only"
                                },
                                {
                                    "0": "PartitionSales2014",
                                    "1": "8",
                                    "2": "/var/opt/mssql/data/PartitionSales2014.ndf",
                                    "3": "Sales2014",
                                    "4": "8192 KB",
                                    "5": "Unlimited",
                                    "6": "65536 KB",
                                    "7": "data only"
                                },
                                {
                                    "0": "PartitionSales2015",
                                    "1": "9",
                                    "2": "/var/opt/mssql/data/PartitionSales2015.ndf",
                                    "3": "Sales2015",
                                    "4": "8192 KB",
                                    "5": "Unlimited",
                                    "6": "65536 KB",
                                    "7": "data only"
                                },
                                {
                                    "0": "PartitionSales2016",
                                    "1": "10",
                                    "2": "/var/opt/mssql/data/PartitionSales2016.ndf",
                                    "3": "Sales2016",
                                    "4": "8192 KB",
                                    "5": "Unlimited",
                                    "6": "65536 KB",
                                    "7": "data only"
                                },
                                {
                                    "0": "PartitionSales2017",
                                    "1": "11",
                                    "2": "/var/opt/mssql/data/PartitionSales2017.ndf",
                                    "3": "Sales2017",
                                    "4": "8192 KB",
                                    "5": "Unlimited",
                                    "6": "65536 KB",
                                    "7": "data only"
                                },
                                {
                                    "0": "PartitionSales2018",
                                    "1": "12",
                                    "2": "/var/opt/mssql/data/PartitionSales2018.ndf",
                                    "3": "Sales2018",
                                    "4": "8192 KB",
                                    "5": "Unlimited",
                                    "6": "65536 KB",
                                    "7": "data only"
                                },
                                {
                                    "0": "PartitionSales2019",
                                    "1": "13",
                                    "2": "/var/opt/mssql/data/PartitionSales2019.ndf",
                                    "3": "Sales2019",
                                    "4": "8192 KB",
                                    "5": "Unlimited",
                                    "6": "65536 KB",
                                    "7": "data only"
                                },
                                {
                                    "0": "PartitionSales2020",
                                    "1": "14",
                                    "2": "/var/opt/mssql/data/PartitionSales2020.ndf",
                                    "3": "Sales2020",
                                    "4": "8192 KB",
                                    "5": "Unlimited",
                                    "6": "65536 KB",
                                    "7": "data only"
                                }
                            ]
                        },
                        "text/html": [
                            "<table>",
                            "<tr><th>name</th><th>fileid</th><th>filename</th><th>filegroup</th><th>size</th><th>maxsize</th><th>growth</th><th>usage</th></tr>",
                            "<tr><td>PartitionedData_DATA</td><td>1</td><td>/var/opt/mssql/data/PartitionedData_DATA.mdf</td><td>PRIMARY</td><td>46080 KB</td><td>51200 KB</td><td>5120 KB</td><td>data only</td></tr>",
                            "<tr><td>PartitionedData_LOG</td><td>2</td><td>/var/opt/mssql/data/PartitionedData_LOG.ldf</td><td>NULL</td><td>25600 KB</td><td>25600 KB</td><td>5120 KB</td><td>log only</td></tr>",
                            "<tr><td>PartitionSales2009</td><td>3</td><td>/var/opt/mssql/data/PartitionSales2009.ndf</td><td>Sales2009</td><td>8192 KB</td><td>Unlimited</td><td>65536 KB</td><td>data only</td></tr>",
                            "<tr><td>PartitionSales2010</td><td>4</td><td>/var/opt/mssql/data/PartitionSales2010.ndf</td><td>Sales2010</td><td>8192 KB</td><td>Unlimited</td><td>65536 KB</td><td>data only</td></tr>",
                            "<tr><td>PartitionSales2011</td><td>5</td><td>/var/opt/mssql/data/PartitionSales2011.ndf</td><td>Sales2011</td><td>8192 KB</td><td>Unlimited</td><td>65536 KB</td><td>data only</td></tr>",
                            "<tr><td>PartitionSales2012</td><td>6</td><td>/var/opt/mssql/data/PartitionSales2012.ndf</td><td>Sales2012</td><td>8192 KB</td><td>Unlimited</td><td>65536 KB</td><td>data only</td></tr>",
                            "<tr><td>PartitionSales2013</td><td>7</td><td>/var/opt/mssql/data/PartitionSales2013.ndf</td><td>Sales2013</td><td>8192 KB</td><td>Unlimited</td><td>65536 KB</td><td>data only</td></tr>",
                            "<tr><td>PartitionSales2014</td><td>8</td><td>/var/opt/mssql/data/PartitionSales2014.ndf</td><td>Sales2014</td><td>8192 KB</td><td>Unlimited</td><td>65536 KB</td><td>data only</td></tr>",
                            "<tr><td>PartitionSales2015</td><td>9</td><td>/var/opt/mssql/data/PartitionSales2015.ndf</td><td>Sales2015</td><td>8192 KB</td><td>Unlimited</td><td>65536 KB</td><td>data only</td></tr>",
                            "<tr><td>PartitionSales2016</td><td>10</td><td>/var/opt/mssql/data/PartitionSales2016.ndf</td><td>Sales2016</td><td>8192 KB</td><td>Unlimited</td><td>65536 KB</td><td>data only</td></tr>",
                            "<tr><td>PartitionSales2017</td><td>11</td><td>/var/opt/mssql/data/PartitionSales2017.ndf</td><td>Sales2017</td><td>8192 KB</td><td>Unlimited</td><td>65536 KB</td><td>data only</td></tr>",
                            "<tr><td>PartitionSales2018</td><td>12</td><td>/var/opt/mssql/data/PartitionSales2018.ndf</td><td>Sales2018</td><td>8192 KB</td><td>Unlimited</td><td>65536 KB</td><td>data only</td></tr>",
                            "<tr><td>PartitionSales2019</td><td>13</td><td>/var/opt/mssql/data/PartitionSales2019.ndf</td><td>Sales2019</td><td>8192 KB</td><td>Unlimited</td><td>65536 KB</td><td>data only</td></tr>",
                            "<tr><td>PartitionSales2020</td><td>14</td><td>/var/opt/mssql/data/PartitionSales2020.ndf</td><td>Sales2020</td><td>8192 KB</td><td>Unlimited</td><td>65536 KB</td><td>data only</td></tr>",
                            "</table>"
                        ]
                    },
                    "batchId": 0,
                    "id": 1,
                    "queryRunnerUri": "queryRunner-untitled:notebook-editor-9"
                }
            ],
            "execution_count": 5
        },
        {
            "cell_type": "code",
            "source": [
                "CREATE PARTITION FUNCTION [SalesPartitionByYear] (Date)\n",
                "AS RANGE LEFT FOR VALUES ('20090101','20100101','20110101','20120101','20130101','20140101','20150101','20160101','20170101','20180101','20190101','20200101')"
            ],
            "metadata": {
                "azdata_cell_guid": "05988df6-248d-46a4-863f-f43412b07c06"
            },
            "outputs": [
                {
                    "output_type": "display_data",
                    "data": {
                        "text/html": "Commands completed successfully."
                    },
                    "metadata": {}
                },
                {
                    "output_type": "display_data",
                    "data": {
                        "text/html": "Total execution time: 00:00:00.004"
                    },
                    "metadata": {}
                }
            ],
            "execution_count": 6
        },
        {
            "cell_type": "code",
            "source": [
                "CREATE PARTITION SCHEME SalesDataScheme\n",
                "as PARTITION SalesPartitionByYear\n",
                "TO (Sales2009,Sales2010,Sales2011,Sales2012,Sales2013,Sales2014,Sales2015,Sales2016,Sales2017,Sales2018,Sales2019,Sales2020,[PRIMARY])"
            ],
            "metadata": {
                "azdata_cell_guid": "8024a90b-6d12-4719-87fa-cbc1b544b7d9"
            },
            "outputs": [
                {
                    "output_type": "display_data",
                    "data": {
                        "text/html": "Commands completed successfully."
                    },
                    "metadata": {}
                },
                {
                    "output_type": "display_data",
                    "data": {
                        "text/html": "Total execution time: 00:00:00.003"
                    },
                    "metadata": {}
                }
            ],
            "execution_count": 7
        },
        {
            "cell_type": "code",
            "source": [
                ""
            ],
            "metadata": {
                "azdata_cell_guid": "8da27bbf-ab4a-4686-86c9-4eb0a8741e05",
                "tags": []
            },
            "outputs": [
                {
                    "output_type": "display_data",
                    "data": {
                        "text/html": "Commands completed successfully."
                    },
                    "metadata": {}
                },
                {
                    "output_type": "display_data",
                    "data": {
                        "text/html": "Total execution time: 00:00:00.004"
                    },
                    "metadata": {}
                }
            ],
            "execution_count": 21
        },
        {
            "cell_type": "code",
            "source": [
                "CREATE TABLE dbo.Sales (\n",
                "\tSalesID INT IDENTITY(1, 1) NOT NULL\n",
                "\t, SalesUniqueID UNIQUEIDENTIFIER CONSTRAINT DF_Sales_SalesUniqueID DEFAULT NEWID()\n",
                "\t, OrderDate DATE NOT NULL\n",
                "\t, SellerID INT\n",
                "    , CompanyID INT\n",
                "    , CONSTRAINT PK_Sales_SalesOrderID PRIMARY KEY (SalesID, OrderDate)\n",
                "\t) ON SalesDataScheme(OrderDate)"
            ],
            "metadata": {
                "azdata_cell_guid": "ff036f45-c941-4d46-a8b3-2e1f28965ca4"
            },
            "outputs": [
                {
                    "output_type": "display_data",
                    "data": {
                        "text/html": "Commands completed successfully."
                    },
                    "metadata": {}
                },
                {
                    "output_type": "display_data",
                    "data": {
                        "text/html": "Total execution time: 00:00:00.006"
                    },
                    "metadata": {}
                }
            ],
            "execution_count": 8
        },
        {
            "cell_type": "code",
            "source": [
                "SET IDENTITY_INSERT dbo.Sales ON\n",
                "\n",
                "INSERT INTO dbo.Sales (\n",
                "\tSalesID\n",
                "\t, SalesUniqueID\n",
                "\t, OrderDate\n",
                "\t, SellerID\n",
                "\t, CompanyID\n",
                "\t)\n",
                "SELECT SalesOrderID\n",
                "\t, SalesUniqueID\n",
                "\t, OrderDate\n",
                "\t, SellerID\n",
                "\t, CompanyID\n",
                "FROM SalesOrder\n",
                ""
            ],
            "metadata": {
                "azdata_cell_guid": "c237e3a6-96f2-4086-bb74-444936955173",
                "tags": [
                    "hide_input"
                ]
            },
            "outputs": [
                {
                    "output_type": "error",
                    "evalue": "Msg 9002, Level 17, State 4, Line 3\nThe transaction log for database 'PartitionedData' is full due to 'ACTIVE_TRANSACTION'.",
                    "ename": "",
                    "traceback": []
                },
                {
                    "output_type": "error",
                    "evalue": "Msg 9002, Level 17, State 4, Line 3\nThe transaction log for database 'PartitionedData' is full due to 'ACTIVE_TRANSACTION'.",
                    "ename": "",
                    "traceback": []
                },
                {
                    "output_type": "display_data",
                    "data": {
                        "text/html": "Total execution time: 00:00:02.718"
                    },
                    "metadata": {}
                }
            ],
            "execution_count": 10
        },
        {
            "cell_type": "code",
            "source": [
                ""
            ],
            "metadata": {
                "azdata_cell_guid": "846fe083-42c9-4f12-93d6-0e00759cf65a"
            },
            "outputs": [
                {
                    "output_type": "display_data",
                    "data": {
                        "text/html": "Commands completed successfully."
                    },
                    "metadata": {}
                },
                {
                    "output_type": "display_data",
                    "data": {
                        "text/html": "Total execution time: 00:00:00.438"
                    },
                    "metadata": {}
                }
            ],
            "execution_count": 12
        }
    ]
}