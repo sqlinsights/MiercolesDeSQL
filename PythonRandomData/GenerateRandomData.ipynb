{
    "metadata": {
        "kernelspec": {
            "name": "python3",
            "display_name": "Python 3",
            "language": "python"
        },
        "language_info": {
            "name": "python",
            "version": "3.7.3",
            "mimetype": "text/x-python",
            "codemirror_mode": {
                "name": "ipython",
                "version": 3
            },
            "pygments_lexer": "ipython3",
            "nbconvert_exporter": "python",
            "file_extension": ".py"
        }
    },
    "nbformat_minor": 2,
    "nbformat": 4,
    "cells": [
        {
            "cell_type": "markdown",
            "source": [
                "# Generando Datos Aleatorios con Python para SQL Server\n",
                "\n",
                "## Librerias:\n",
                "\n",
                "- Faker\n",
                "- Pandas\n",
                "- Random\n",
                "- DateTime\n",
                "- PyODBC\n",
                "- fast\\_to\\_sql\n",
                "    \n",
                "\n",
                "| Libreria | Uso |\n",
                "| --- | --- |\n",
                "| Faker | Esta libreria nos permite generar datos aleatorios para Nombres, Apellidos, Ciudades, ZipCodes, Booleanos, entre otros. Nos da la flexibilidad de especificar una cultura o lenguaje y nos facilita la creación de datos únicos |\n",
                "| Pandas | Aqui manejaremos nuestros datos, los organizaremos y moldearemos para luego llevarlos a SQL Server |\n",
                "| Random | El nombre lo dice todo, esta libreria nos permite generar digitos aleatorios |\n",
                "| DateTime | Con esta libreria manejaremos fechas |\n",
                "| PyODBC | Maneja conexiones ODBC |\n",
                "|fast_to_sql|Permite hacer inserciones rapidas a SQL Server||\n",
                "\n",
                "# Comencemos...\n",
                "\n",
                "## Requerimientos\n",
                "\n",
                "Necesitamos generar al menos 10k registros para una tabla con las siguientes especificaciones:\n",
                "\n",
                "| Columna | Tipo | Restricciones/Especificaciones |\n",
                "| --- | --- | --- |\n",
                "| ID | int | Sequencial |\n",
                "| Nombre | String |  |\n",
                "| Apellido | String |  |\n",
                "| Direccion | String |  |\n",
                "| Ciudad | String |  |\n",
                "| Telefono | String |  |\n",
                "| CorreoElectronico | String | Unique |\n",
                "| Edad | Int | Limitado de 18-65 |\n",
                "| GrupoID | Int | Limitado de 1-4 |\n",
                "| Activo | Bool |  |\n",
                "| IDUniversal | GUID | Unique |\n",
                "| BalanceNeto | Float | $500-$10k |\n",
                "| FechaBalance | Date | Entre Mar-2019 y Nov 2020 |\n",
                "\n",
                "## Primero Imports..."
            ],
            "metadata": {
                "azdata_cell_guid": "ab59000e-d875-449e-8db1-255daf8d2456"
            }
        },
        {
            "cell_type": "code",
            "source": [
                "from faker import Faker\n",
                "import pandas as pd\n",
                "import random\n",
                "from datetime import datetime\n",
                "import pyodbc\n",
                "from fast_to_sql import fast_to_sql as fts"
            ],
            "metadata": {
                "azdata_cell_guid": "5beb8eae-bfbc-49c7-895e-ce9a9b24097a",
                "tags": [
                    "hide_input"
                ]
            },
            "outputs": [],
            "execution_count": null
        },
        {
            "cell_type": "markdown",
            "source": [
                "## Definamos el lenguaje de Faker e inicializemos la clase y ciertas variables para la corrida."
            ],
            "metadata": {
                "azdata_cell_guid": "e93ef8fb-9cb8-4361-bef9-ba1e06f93610"
            }
        },
        {
            "cell_type": "code",
            "source": [
                "fake = Faker(['en-US'])\n",
                "Start = 1\n",
                "End = 10001\n",
                "StartDate = '03-01-19'\n",
                "EndDate = '11-30-20'"
            ],
            "metadata": {
                "azdata_cell_guid": "dab90bea-f965-4405-93c2-23466f18af2d",
                "tags": []
            },
            "outputs": [],
            "execution_count": null
        },
        {
            "cell_type": "markdown",
            "source": [
                "---"
            ],
            "metadata": {
                "azdata_cell_guid": "c8b8f4af-d069-4ef9-a010-2b20a692ecf7"
            }
        },
        {
            "cell_type": "markdown",
            "source": [
                "## En muchos casos, he visto este método ser utilizado para la creacion de registros basados en calculos. Este método es recursivo e ineficiente. "
            ],
            "metadata": {
                "azdata_cell_guid": "9ff099cd-0233-4da6-8409-e26c5ff9efda"
            }
        },
        {
            "cell_type": "code",
            "source": [
                "FrameRecursive"
            ],
            "metadata": {
                "azdata_cell_guid": "afb74bc5-8eb3-4564-8551-e6065dc2254c"
            },
            "outputs": [],
            "execution_count": null
        },
        {
            "cell_type": "code",
            "source": [
                "FrameRecursive = pd.DataFrame()\n",
                "Counter = 1\n",
                "rbegin = datetime.now()\n",
                "while Counter < End:\n",
                "    Nombre = fake.first_name()\n",
                "    Apellido = fake.last_name()\n",
                "    Direccion = fake.address()\n",
                "    Ciudad = fake.city()\n",
                "    Telefono = fake.phone_number()\n",
                "    proveedor = fake.free_email_domain()\n",
                "    CorreoElectronico = Nombre+\".\"+Apellido+\"@\"+proveedor\n",
                "    Edad = random.randint(18, 65)\n",
                "    GrupoID = random.randint(1, 4)\n",
                "    Activo = fake.boolean(chance_of_getting_true=75)\n",
                "    IDUniversal = fake.unique.uuid4()\n",
                "    BalanceNeto = float(\"{0:.2f}\".format(random.uniform(500, 10000)))\n",
                "    SD = datetime.strptime(StartDate, '%m-%d-%y')\n",
                "    ED = datetime.strptime(EndDate, '%m-%d-%y')\n",
                "    FechaBalance = str(fake.date_between(\n",
                "            start_date=SD, end_date=ED))\n",
                "    FrameRecursive = FrameRecursive.append({  'ID':Counter,\n",
                "                                            'Nombre':Nombre,\n",
                "                                            'Apellido':Apellido,\n",
                "                                            'Direccion':Direccion,\n",
                "                                            'Ciudad':Ciudad,\n",
                "                                            'Telefono':Telefono,\n",
                "                                            'CorreoElectronico':CorreoElectronico,\n",
                "                                            'Edad':Edad,\n",
                "                                            'GrupoID':GrupoID,\n",
                "                                            'Activo':Activo,\n",
                "                                            'IDUniversal':IDUniversal,\n",
                "                                            'BalanceNeto':BalanceNeto,\n",
                "                                            'FechaBalnce':FechaBalance\n",
                "                                         },ignore_index=True)\n",
                "    Counter =Counter + 1\n",
                "    rend=datetime.now()\n",
                "    rDiff = (rend-rbegin).total_seconds()"
            ],
            "metadata": {
                "azdata_cell_guid": "f61debc9-ae1d-45b5-af25-d9ade39b1c56",
                "tags": []
            },
            "outputs": [],
            "execution_count": null
        },
        {
            "cell_type": "markdown",
            "source": [
                "## LAMBDAS como metodo de inserción.\n",
                "\n",
                "Al utilizar lambdas, la serie del panda es evaluada en linea y nos permite generar los datos aleatorios sin necesidad de iterar linea por linea utilizadon un:\n",
                "\n",
                "```\n",
                "for k in GeneratedData.iterrows()\n",
                "```\n",
                "\n",
                "El método mencionado arriba, generaria los registros uno a uno, lo que puede consumir tiempo y memoria al generar miles de registros. Sin embargo al utlizar funciones atravez de <strong>lambas</strong> se generan a nivel de pivote en el panda lo que resulta en mejor rendimiento y codigo mucho mas limpio. Para comenzar el Dataframe insertaremos valores en la columna ID secuencialmente basados en el rango definido anteriormente.\n",
                "\n",
                "### Primero: Vamos a crear funciones para cada columna, esto nos permitira evitar el uso de FOR o WHILE loops y hacer nuestro codigo mas legible."
            ],
            "metadata": {
                "azdata_cell_guid": "f89332f5-4db0-4bbd-bc20-313508afdb8b"
            }
        },
        {
            "cell_type": "code",
            "source": [
                "def GenNombre():\n",
                "    Nombre = fake.first_name()\n",
                "    return Nombre\n",
                "\n",
                "def GenApellido():\n",
                "    Apellido = fake.last_name()\n",
                "    return Apellido \n",
                "\n",
                "def GenDireccion():\n",
                "    Direccion = fake.address()\n",
                "    return Direccion \n",
                "\n",
                "def GenCiudad():\n",
                "    Ciudad = fake.city()\n",
                "    return Ciudad\n",
                "\n",
                "def GenTelefono():\n",
                "    Telefono = fake.phone_number()\n",
                "    return Telefono\n",
                "\n",
                "def GenCorreoElectronico(Nombre,Apellido):\n",
                "    proveedor = fake.free_email_domain()\n",
                "    CorreoElectronico = Nombre+\".\"+Apellido+\"@\"+proveedor\n",
                "    return CorreoElectronico\n",
                "\n",
                "def GenEdad():\n",
                "    Edad = random.randint(18, 65)\n",
                "    return Edad\n",
                "\n",
                "def GenGrupoID():\n",
                "    GrupoID = random.randint(1, 4)\n",
                "    return GrupoID\n",
                "\n",
                "def GenActivo():\n",
                "    Activo = fake.boolean(chance_of_getting_true=75)\n",
                "    return Activo\n",
                "\n",
                "def GenIDUniversal():\n",
                "    IDUniversal = fake.unique.uuid4()\n",
                "    return IDUniversal\n",
                "\n",
                "def GenBalanceNeto():\n",
                "    BalanceNeto = float(\"{0:.2f}\".format(random.uniform(500, 10000)))\n",
                "    return BalanceNeto\n",
                "\n",
                "def GenFechaBalance():\n",
                "    SD = datetime.strptime(StartDate, '%m-%d-%y')\n",
                "    ED = datetime.strptime(EndDate, '%m-%d-%y')\n",
                "    FechaBalance = str(fake.date_between(\n",
                "            start_date=SD, end_date=ED))\n",
                "    return FechaBalance"
            ],
            "metadata": {
                "azdata_cell_guid": "e001e825-2998-4892-949f-61bb37199272",
                "tags": []
            },
            "outputs": [],
            "execution_count": null
        },
        {
            "cell_type": "markdown",
            "source": [
                "## Crearemos el DataFrame y lo popularemos utilizando Lambdas de la siguiente manera."
            ],
            "metadata": {
                "azdata_cell_guid": "210efa65-46f3-4b57-bf67-121b4463f441"
            }
        },
        {
            "cell_type": "code",
            "source": [
                "begin = datetime.now()\n",
                "GeneratedData = pd.DataFrame(list(range(Start,End)), columns=[\"ID\"])\n",
                "GeneratedData[\"Nombre\"] = GeneratedData.apply(lambda x: GenNombre(), axis=1)\n",
                "GeneratedData[\"Apellido\"] = GeneratedData.apply(lambda x: GenApellido(), axis=1)\n",
                "GeneratedData[\"Direccion\"] = GeneratedData.apply(lambda x: GenDireccion(), axis=1)\n",
                "GeneratedData[\"Ciudad\"] = GeneratedData.apply(lambda x: GenCiudad(), axis=1)\n",
                "GeneratedData[\"Telefono\"] = GeneratedData.apply(lambda x: GenTelefono(), axis=1)\n",
                "GeneratedData[\"CorreoElectronico\"] = GeneratedData.apply(lambda x: GenCorreoElectronico(x.Nombre,x.Apellido), axis=1)\n",
                "GeneratedData[\"Edad\"] = GeneratedData.apply(lambda x: GenEdad(), axis=1)\n",
                "GeneratedData[\"GrupoID\"] = GeneratedData.apply(lambda x: GenGrupoID(), axis=1)\n",
                "GeneratedData[\"Activo\"] = GeneratedData.apply(lambda x: GenActivo(), axis=1)\n",
                "GeneratedData[\"IDUniversal\"] = GeneratedData.apply(lambda x: GenIDUniversal(), axis=1)\n",
                "GeneratedData[\"BalanceNeto\"] = GeneratedData.apply(lambda x: GenBalanceNeto(), axis=1)\n",
                "GeneratedData[\"FechaBalance\"] = GeneratedData.apply(lambda x: GenFechaBalance(), axis=1)\n",
                "end = datetime.now()\n",
                "diff = (end-begin).total_seconds()"
            ],
            "metadata": {
                "azdata_cell_guid": "ca0f8693-92a0-491b-8467-406359aea68f",
                "tags": []
            },
            "outputs": [],
            "execution_count": null
        },
        {
            "cell_type": "code",
            "source": [
                "GeneratedData"
            ],
            "metadata": {
                "azdata_cell_guid": "57cf043d-4ab7-495c-92dc-8e2287786256"
            },
            "outputs": [],
            "execution_count": null
        },
        {
            "cell_type": "markdown",
            "source": [
                "## Comparemos los Resultados "
            ],
            "metadata": {
                "azdata_cell_guid": "eb809ea4-0e18-4a55-bdff-693a6d98c9cf"
            }
        },
        {
            "cell_type": "code",
            "source": [
                "RegistrosCount = GeneratedData[\"ID\"].count()\n",
                "RecCount = FrameRecursive[\"ID\"].count()\n",
                "print(\"Recursive approach inserted {0} rows and took {1} seconds to complete\".format(RecCount, rDiff))\n",
                "print(\"Lambda approach inserted {0} rows and took {1} seconds to complete\".format(RegistrosCount, diff))\n",
                ""
            ],
            "metadata": {
                "azdata_cell_guid": "931ad9a6-0022-420a-a19f-7e27c9d00367",
                "tags": [
                    "hide_input"
                ]
            },
            "outputs": [
                {
                    "name": "stdout",
                    "text": "Recursive approach inserted 10000 rows and took 117.846234 seconds to complete\nLambda approach inserted 10000 rows and took 10.197089 seconds to complete\n",
                    "output_type": "stream"
                }
            ],
            "execution_count": 41
        },
        {
            "cell_type": "markdown",
            "source": [
                "## Panda -\\> SQL\n",
                "\n",
                "Comenzemos por definir e inicializar la conexión a nuestro servidor de SQL utilizando PyODBC y FastToSQL"
            ],
            "metadata": {
                "azdata_cell_guid": "2677083e-4ddc-46d2-a1b6-61b9047ce7fd"
            }
        },
        {
            "cell_type": "code",
            "source": [
                "def ConnectToSQL():\n",
                "    server = \"localhost,1500\"\n",
                "    database =\"PythonGenerated\"\n",
                "    username = \"sa\"\n",
                "    password = \"Today123\"\n",
                "    conn = pyodbc.connect(\n",
                "        \"DRIVER={{ODBC Driver 17 for SQL Server}};SERVER={0}; database={1}; trusted_connection=no;UID={2};PWD={3}\".format(\n",
                "            server, database, username, password\n",
                "        ))\n",
                "\n",
                "    return conn"
            ],
            "metadata": {
                "azdata_cell_guid": "f46a7616-5c72-49e9-9977-baff1dd4712f",
                "tags": []
            },
            "outputs": [],
            "execution_count": 42
        },
        {
            "cell_type": "markdown",
            "source": [
                "## Enviar nuestros datos a SQL utilizando TO_JSON (parte de pandas)"
            ],
            "metadata": {
                "azdata_cell_guid": "254308d8-7475-4931-8588-2161edd0c4ef"
            }
        },
        {
            "cell_type": "code",
            "source": [
                "Context = ConnectToSQL()\n",
                "create_statement = fts.fast_to_sql(GeneratedData, \"Aleatorios\", Context, if_exists=\"replace\", temp=False)\n",
                "Context.commit()\n",
                "Context.close()"
            ],
            "metadata": {
                "azdata_cell_guid": "6a37152e-431d-4065-8506-9e40df346042",
                "tags": []
            },
            "outputs": [],
            "execution_count": 43
        },
        {
            "cell_type": "code",
            "source": [
                ""
            ],
            "metadata": {
                "azdata_cell_guid": "3fbde97c-347e-47c1-98a1-45c05adf25bd",
                "tags": [
                    "hide_input"
                ]
            },
            "outputs": [],
            "execution_count": null
        }
    ]
}