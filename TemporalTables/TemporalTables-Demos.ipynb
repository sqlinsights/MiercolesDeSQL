{
    "metadata": {
        "kernelspec": {
            "name": "SQL",
            "display_name": "SQL",
            "language": "sql"
        },
        "language_info": {
            "name": "sql",
            "version": ""
        }
    },
    "nbformat_minor": 2,
    "nbformat": 4,
    "cells": [
        {
            "cell_type": "markdown",
            "source": [
                "# Temporal  Tables\n",
                "## Creación"
            ],
            "metadata": {
                "azdata_cell_guid": "452d12d2-2241-47b0-a4aa-033bb6c6ac31"
            }
        },
        {
            "cell_type": "code",
            "source": [
                "CREATE TABLE dbo.Temporal\n",
                "(\n",
                "  TemporalID INT NOT NULL IDENTITY(1,1) PRIMARY KEY\n",
                ", FirstName VARCHAR(100) NOT NULL\n",
                ", LastName VARCHAR(100) NOT NULL\n",
                ", StartTime DATETIME2(7) GENERATED ALWAYS AS ROW START HIDDEN \n",
                ", EndTime DATETIME2(7) GENERATED ALWAYS AS ROW END HIDDEN\n",
                ", PERIOD FOR SYSTEM_TIME ([StartTime], [EndTime])\n",
                ")\n",
                "WITH\n",
                "(\n",
                "SYSTEM_VERSIONING = ON ( HISTORY_TABLE = dbo.TemporalHistory )\n",
                ")\n",
                ""
            ],
            "metadata": {
                "azdata_cell_guid": "cd661d85-c12a-4e3e-8145-09160446e244",
                "tags": []
            },
            "outputs": [],
            "execution_count": null
        },
        {
            "cell_type": "markdown",
            "source": [
                "## Insertar Datos"
            ],
            "metadata": {
                "azdata_cell_guid": "90cc8d89-f3ef-4fbb-9659-61083638e0a2"
            }
        },
        {
            "cell_type": "code",
            "source": [
                "INSERT INTO dbo.Temporal\n",
                "    (\n",
                "    FirstName, LastName\n",
                "    )\n",
                "SELECT Distinct FirstName, LastName\n",
                "FROM person.Person \n",
                ""
            ],
            "metadata": {
                "azdata_cell_guid": "6b02140f-888b-473f-ad89-88f6b99ecab7",
                "tags": []
            },
            "outputs": [],
            "execution_count": null
        },
        {
            "cell_type": "markdown",
            "source": [
                "## Verificar Datos"
            ],
            "metadata": {
                "azdata_cell_guid": "24e3f94c-6ca9-4526-a439-36891a30ac94"
            }
        },
        {
            "cell_type": "code",
            "source": [
                "SELECT * FROM dbo.Temporal"
            ],
            "metadata": {
                "azdata_cell_guid": "8e1b5b59-d360-4907-9940-f57050b5b97e",
                "tags": []
            },
            "outputs": [],
            "execution_count": null
        },
        {
            "cell_type": "markdown",
            "source": [
                "### Incluir Columnas de Version"
            ],
            "metadata": {
                "azdata_cell_guid": "c419d6ec-5d22-4a90-af5a-9b680ed31584"
            }
        },
        {
            "cell_type": "code",
            "source": [
                "SELECT *, StartTime, EndTime FROM dbo.Temporal"
            ],
            "metadata": {
                "azdata_cell_guid": "485e038f-86ca-405c-b226-aa49c98f3983",
                "tags": []
            },
            "outputs": [],
            "execution_count": null
        },
        {
            "cell_type": "markdown",
            "source": [
                "## Modificar Datos"
            ],
            "metadata": {
                "azdata_cell_guid": "ac1b04fe-0b9f-49c1-bd71-0fdf5952b993"
            }
        },
        {
            "cell_type": "code",
            "source": [
                "UPDATE dbo.Temporal\n",
                "set FirstName = 'Bob', LastName = 'May'\n",
                "where TemporalID = 33"
            ],
            "metadata": {
                "azdata_cell_guid": "e8e4b0c2-cc74-4cb9-8427-b57db56a438b",
                "tags": []
            },
            "outputs": [],
            "execution_count": null
        },
        {
            "cell_type": "markdown",
            "source": [
                "### Verificar Cambio en tabla corriente"
            ],
            "metadata": {
                "azdata_cell_guid": "047c2209-19f5-4283-916e-a6052c8d8491"
            }
        },
        {
            "cell_type": "code",
            "source": [
                "SELECT * , StartTime, EndTime FROM dbo.Temporal\n",
                "where TemporalID = 33"
            ],
            "metadata": {
                "azdata_cell_guid": "ad948865-5145-4823-9d7f-a9216683a6d8",
                "tags": []
            },
            "outputs": [],
            "execution_count": null
        },
        {
            "cell_type": "markdown",
            "source": [
                "### Verificar cambios en tabla historica"
            ],
            "metadata": {
                "azdata_cell_guid": "34498bdc-e1a6-4452-82c9-aeea533deca5"
            }
        },
        {
            "cell_type": "code",
            "source": [
                "SELECT * FROM dbo.TemporalHistory\n",
                "where TemporalID = 33"
            ],
            "metadata": {
                "azdata_cell_guid": "3cf55a62-7c80-4a70-b6e4-1eb3df9edb98",
                "tags": []
            },
            "outputs": [],
            "execution_count": null
        },
        {
            "cell_type": "code",
            "source": [
                "SELECT TemporalID, FirstName, LastName, StartTime, EndTime FROM dbo.Temporal\n",
                "FOR SYSTEM_TIME ALL\n",
                "where TemporalID = 33"
            ],
            "metadata": {
                "azdata_cell_guid": "92f0ed8e-2631-4ea3-8c03-be5f673c1709",
                "tags": []
            },
            "outputs": [],
            "execution_count": null
        },
        {
            "cell_type": "markdown",
            "source": [
                "### Cambiemos el nombre una vez mas"
            ],
            "metadata": {
                "azdata_cell_guid": "dbcdd56a-41d2-4162-a182-ca7e50bd12b8"
            }
        },
        {
            "cell_type": "code",
            "source": [
                "UPDATE dbo.Temporal\n",
                "set FirstName = 'John', LastName = 'Smith'\n",
                "where TemporalID = 33"
            ],
            "metadata": {
                "azdata_cell_guid": "ca57c7e3-fe2d-4b44-b1ba-efd0d7b72c56"
            },
            "outputs": [],
            "execution_count": null
        },
        {
            "cell_type": "markdown",
            "source": [
                "### Visualizemos de otra manera"
            ],
            "metadata": {
                "azdata_cell_guid": "271ad6e1-4bd3-4c08-af29-f3e56b7305ed"
            }
        },
        {
            "cell_type": "code",
            "source": [
                "SELECT TemporalID, FirstName, LastName, StartTime, EndTime,\n",
                "Case EndTime\n",
                "when '9999-12-31 23:59:59.9999999' then 'CURRENT'\n",
                "ELSE 'OUTDATED' END AS RowType\n",
                "FROM dbo.Temporal\n",
                "FOR SYSTEM_TIME ALL\n",
                "where TemporalID = 33\n",
                "order by StartTime desc"
            ],
            "metadata": {
                "azdata_cell_guid": "0cd03205-eee7-4c79-8c95-3b4dc2082748",
                "tags": []
            },
            "outputs": [],
            "execution_count": null
        },
        {
            "cell_type": "markdown",
            "source": [
                "## Borrando Datos"
            ],
            "metadata": {
                "azdata_cell_guid": "68502ab4-af5d-47da-b9e4-25d6674eee72"
            }
        },
        {
            "cell_type": "code",
            "source": [
                "Delete from dbo.Temporal where TemporalID = 33"
            ],
            "metadata": {
                "azdata_cell_guid": "e7874800-b7fb-43fc-ab43-e96afa822bb0"
            },
            "outputs": [],
            "execution_count": null
        },
        {
            "cell_type": "markdown",
            "source": [
                "## Reinsertando Datos"
            ],
            "metadata": {
                "azdata_cell_guid": "81b10250-60a9-465b-a1cc-70bdd855b626"
            }
        },
        {
            "cell_type": "code",
            "source": [
                "SET IDENTITY_INSERT dbo.Temporal ON\n",
                "\n",
                "INSERT INTO dbo.Temporal\n",
                "(TemporalID, FirstName ,LastName)\n",
                "select Top (1) TemporalID, FirstName, LastName from TemporalHistory\n",
                "ORDER by StartTime desc\n",
                "\n",
                "SET IDENTITY_INSERT dbo.Temporal OFF"
            ],
            "metadata": {
                "azdata_cell_guid": "3e7fad47-a7dc-4d03-a9a0-726ce213ee59"
            },
            "outputs": [],
            "execution_count": null
        },
        {
            "cell_type": "code",
            "source": [
                "SELECT TemporalID, FirstName, LastName, StartTime, EndTime,\n",
                "Case EndTime\n",
                "when '9999-12-31 23:59:59.9999999' then 'CURRENT'\n",
                "ELSE 'OUTDATED' END AS RowType\n",
                "FROM dbo.Temporal\n",
                "FOR SYSTEM_TIME ALL\n",
                "where TemporalID = 33\n",
                "order by StartTime desc"
            ],
            "metadata": {
                "azdata_cell_guid": "673b5ec6-1f1c-4a6a-a12d-2cf7ce9ce697"
            },
            "outputs": [],
            "execution_count": null
        },
        {
            "cell_type": "markdown",
            "source": [
                "## System_Time"
            ],
            "metadata": {
                "azdata_cell_guid": "0e65afc6-359f-42b3-ba95-bbbc9201318a"
            }
        },
        {
            "cell_type": "markdown",
            "source": [
                "### Between"
            ],
            "metadata": {
                "azdata_cell_guid": "00754a95-467a-4b37-864d-e4c4bccf880c"
            }
        },
        {
            "cell_type": "code",
            "source": [
                "SELECT TemporalID, FirstName, LastName, StartTime, EndTime,\n",
                "Case EndTime\n",
                "when '9999-12-31 23:59:59.9999999' then 'CURRENT'\n",
                "ELSE 'OUTDATED' END AS RowType\n",
                "FROM dbo.Temporal\n",
                "FOR SYSTEM_TIME BETWEEN '2020-06-10 22:16' and '2020-06-10 22:24'\n",
                "where TemporalID = 33\n",
                "order by StartTime desc"
            ],
            "metadata": {
                "azdata_cell_guid": "583e4976-0454-4fef-91d5-8e67b7e7193c",
                "tags": []
            },
            "outputs": [],
            "execution_count": null
        },
        {
            "cell_type": "markdown",
            "source": [
                "### AS OF"
            ],
            "metadata": {
                "azdata_cell_guid": "cd474eb6-4aba-46de-bbf6-a6a2a64ca51d"
            }
        },
        {
            "cell_type": "code",
            "source": [
                "SELECT TemporalID, FirstName, LastName, StartTime, EndTime,\n",
                "Case EndTime\n",
                "when '9999-12-31 23:59:59.9999999' then 'CURRENT'\n",
                "ELSE 'OUTDATED' END AS RowType\n",
                "FROM dbo.Temporal\n",
                "FOR SYSTEM_TIME AS OF '2020-06-10 22:16' \n",
                "where TemporalID = 33\n",
                "order by StartTime desc"
            ],
            "metadata": {
                "azdata_cell_guid": "fd08b938-9a4b-4ee9-a920-13e4199aff6b"
            },
            "outputs": [],
            "execution_count": null
        },
        {
            "cell_type": "markdown",
            "source": [
                "# Modificando la Tabla Principal"
            ],
            "metadata": {
                "azdata_cell_guid": "03b95b57-54db-4ceb-82d5-c7a536920af7"
            }
        },
        {
            "cell_type": "markdown",
            "source": [
                "## Agregando una Columna"
            ],
            "metadata": {
                "azdata_cell_guid": "d4301307-730f-43a6-82e1-ed42027f5793"
            }
        },
        {
            "cell_type": "code",
            "source": [
                "ALTER TABLE dbo.Temporal\n",
                "add StrongID UNIQUEIDENTIFIER DEFAULT(NewID())"
            ],
            "metadata": {
                "azdata_cell_guid": "acc528a9-337b-40e9-bd0f-963355bfb938"
            },
            "outputs": [],
            "execution_count": null
        },
        {
            "cell_type": "code",
            "source": [
                "select * from dbo.TemporalHistory"
            ],
            "metadata": {
                "azdata_cell_guid": "4db7837e-2ba9-46b9-9da5-d38069edf5c3"
            },
            "outputs": [
                {
                    "output_type": "display_data",
                    "data": {
                        "text/html": "(3 rows affected)"
                    },
                    "metadata": {}
                },
                {
                    "output_type": "display_data",
                    "data": {
                        "text/html": "Total execution time: 00:00:00.003"
                    },
                    "metadata": {}
                },
                {
                    "output_type": "execute_result",
                    "execution_count": 21,
                    "data": {
                        "application/vnd.dataresource+json": {
                            "schema": {
                                "fields": [
                                    {
                                        "name": "TemporalID"
                                    },
                                    {
                                        "name": "FirstName"
                                    },
                                    {
                                        "name": "LastName"
                                    },
                                    {
                                        "name": "StartTime"
                                    },
                                    {
                                        "name": "EndTime"
                                    },
                                    {
                                        "name": "StrongID"
                                    }
                                ]
                            },
                            "data": [
                                {
                                    "0": "33",
                                    "1": "Evan",
                                    "2": "Adams",
                                    "3": "2020-06-10 22:14:47.0568050",
                                    "4": "2020-06-10 22:16:38.4111668",
                                    "5": "NULL"
                                },
                                {
                                    "0": "33",
                                    "1": "Bob",
                                    "2": "May",
                                    "3": "2020-06-10 22:16:38.4111668",
                                    "4": "2020-06-10 22:20:58.6225728",
                                    "5": "NULL"
                                },
                                {
                                    "0": "33",
                                    "1": "John",
                                    "2": "Smith",
                                    "3": "2020-06-10 22:20:58.6225728",
                                    "4": "2020-06-10 22:24:55.2785476",
                                    "5": "NULL"
                                }
                            ]
                        },
                        "text/html": "<table><tr><th>TemporalID</th><th>FirstName</th><th>LastName</th><th>StartTime</th><th>EndTime</th><th>StrongID</th></tr><tr><td>33</td><td>Evan</td><td>Adams</td><td>2020-06-10 22:14:47.0568050</td><td>2020-06-10 22:16:38.4111668</td><td>NULL</td></tr><tr><td>33</td><td>Bob</td><td>May</td><td>2020-06-10 22:16:38.4111668</td><td>2020-06-10 22:20:58.6225728</td><td>NULL</td></tr><tr><td>33</td><td>John</td><td>Smith</td><td>2020-06-10 22:20:58.6225728</td><td>2020-06-10 22:24:55.2785476</td><td>NULL</td></tr></table>"
                    },
                    "metadata": {}
                }
            ],
            "execution_count": 21
        },
        {
            "cell_type": "code",
            "source": [
                "Update dbo.Temporal set StrongID = NEWID()\n",
                "where StrongID is null"
            ],
            "metadata": {
                "azdata_cell_guid": "64f44107-0e17-4213-b92e-ee1766512dc0"
            },
            "outputs": [
                {
                    "output_type": "display_data",
                    "data": {
                        "text/html": "(19515 rows affected)"
                    },
                    "metadata": {}
                },
                {
                    "output_type": "display_data",
                    "data": {
                        "text/html": "Total execution time: 00:00:00.252"
                    },
                    "metadata": {}
                }
            ],
            "execution_count": 22
        },
        {
            "cell_type": "code",
            "source": [
                "SELECT TemporalID, FirstName, LastName, StartTime, EndTime, StrongID,\n",
                "Case EndTime\n",
                "when '9999-12-31 23:59:59.9999999' then 'CURRENT'\n",
                "ELSE 'OUTDATED' END AS RowType\n",
                "FROM dbo.Temporal\n",
                "FOR SYSTEM_TIME ALL\n",
                "where TemporalID = 33\n",
                "order by StartTime desc"
            ],
            "metadata": {
                "azdata_cell_guid": "6ff3ac69-ec73-47c0-b8f4-2c1e7e259649"
            },
            "outputs": [
                {
                    "output_type": "display_data",
                    "data": {
                        "text/html": "(5 rows affected)"
                    },
                    "metadata": {}
                },
                {
                    "output_type": "display_data",
                    "data": {
                        "text/html": "Total execution time: 00:00:00.008"
                    },
                    "metadata": {}
                },
                {
                    "output_type": "execute_result",
                    "execution_count": 25,
                    "data": {
                        "application/vnd.dataresource+json": {
                            "schema": {
                                "fields": [
                                    {
                                        "name": "TemporalID"
                                    },
                                    {
                                        "name": "FirstName"
                                    },
                                    {
                                        "name": "LastName"
                                    },
                                    {
                                        "name": "StartTime"
                                    },
                                    {
                                        "name": "EndTime"
                                    },
                                    {
                                        "name": "StrongID"
                                    },
                                    {
                                        "name": "RowType"
                                    }
                                ]
                            },
                            "data": [
                                {
                                    "0": "33",
                                    "1": "John",
                                    "2": "Smith",
                                    "3": "2020-06-10 22:38:23.8354045",
                                    "4": "9999-12-31 23:59:59.9999999",
                                    "5": "95f56153-3b07-444d-8b12-4e9ca2506fd2",
                                    "6": "CURRENT"
                                },
                                {
                                    "0": "33",
                                    "1": "John",
                                    "2": "Smith",
                                    "3": "2020-06-10 22:26:35.6995792",
                                    "4": "2020-06-10 22:38:23.8354045",
                                    "5": "NULL",
                                    "6": "OUTDATED"
                                },
                                {
                                    "0": "33",
                                    "1": "John",
                                    "2": "Smith",
                                    "3": "2020-06-10 22:20:58.6225728",
                                    "4": "2020-06-10 22:24:55.2785476",
                                    "5": "NULL",
                                    "6": "OUTDATED"
                                },
                                {
                                    "0": "33",
                                    "1": "Bob",
                                    "2": "May",
                                    "3": "2020-06-10 22:16:38.4111668",
                                    "4": "2020-06-10 22:20:58.6225728",
                                    "5": "NULL",
                                    "6": "OUTDATED"
                                },
                                {
                                    "0": "33",
                                    "1": "Evan",
                                    "2": "Adams",
                                    "3": "2020-06-10 22:14:47.0568050",
                                    "4": "2020-06-10 22:16:38.4111668",
                                    "5": "NULL",
                                    "6": "OUTDATED"
                                }
                            ]
                        },
                        "text/html": "<table><tr><th>TemporalID</th><th>FirstName</th><th>LastName</th><th>StartTime</th><th>EndTime</th><th>StrongID</th><th>RowType</th></tr><tr><td>33</td><td>John</td><td>Smith</td><td>2020-06-10 22:38:23.8354045</td><td>9999-12-31 23:59:59.9999999</td><td>95f56153-3b07-444d-8b12-4e9ca2506fd2</td><td>CURRENT</td></tr><tr><td>33</td><td>John</td><td>Smith</td><td>2020-06-10 22:26:35.6995792</td><td>2020-06-10 22:38:23.8354045</td><td>NULL</td><td>OUTDATED</td></tr><tr><td>33</td><td>John</td><td>Smith</td><td>2020-06-10 22:20:58.6225728</td><td>2020-06-10 22:24:55.2785476</td><td>NULL</td><td>OUTDATED</td></tr><tr><td>33</td><td>Bob</td><td>May</td><td>2020-06-10 22:16:38.4111668</td><td>2020-06-10 22:20:58.6225728</td><td>NULL</td><td>OUTDATED</td></tr><tr><td>33</td><td>Evan</td><td>Adams</td><td>2020-06-10 22:14:47.0568050</td><td>2020-06-10 22:16:38.4111668</td><td>NULL</td><td>OUTDATED</td></tr></table>"
                    },
                    "metadata": {}
                }
            ],
            "execution_count": 25
        },
        {
            "cell_type": "markdown",
            "source": [
                "## Agregando una columna NOT-NULL"
            ],
            "metadata": {
                "azdata_cell_guid": "8d01e28f-8e99-40b2-82d1-fa0759e235e1"
            }
        },
        {
            "cell_type": "markdown",
            "source": [
                "### Veamos un intento fallido "
            ],
            "metadata": {
                "azdata_cell_guid": "724b838a-4f1f-4e27-b564-c58d70da8116"
            }
        },
        {
            "cell_type": "code",
            "source": [
                "ALTER TABLE dbo.Temporal\n",
                "ADD [TimeStamp] RowVersion NOT NULL"
            ],
            "metadata": {
                "azdata_cell_guid": "c748196f-65e1-46eb-afa8-d9d8a8466bc0"
            },
            "outputs": [
                {
                    "output_type": "error",
                    "ename": "",
                    "evalue": "Msg 515, Level 16, State 2, Line 1\nCannot insert the value NULL into column 'TimeStamp', table 'AdventureWorks2017.dbo.TemporalHistory'; column does not allow nulls. UPDATE fails.",
                    "traceback": []
                },
                {
                    "output_type": "display_data",
                    "data": {
                        "text/html": "The statement has been terminated."
                    },
                    "metadata": {}
                },
                {
                    "output_type": "display_data",
                    "data": {
                        "text/html": "Total execution time: 00:00:00.007"
                    },
                    "metadata": {}
                }
            ],
            "execution_count": 26
        },
        {
            "cell_type": "code",
            "source": [
                "ALTER TABLE dbo.Temporal\n",
                "SET (SYSTEM_VERSIONING = OFF)\n",
                "\n",
                "ALTER TABLE dbo.TemporalHistory\n",
                "ADD [TimeStamp] RowVersion NOT NULL\n",
                "\n",
                "ALTER TABLE dbo.Temporal\n",
                "ADD [TimeStamp] RowVersion NOT NULL\n",
                "\n",
                "ALTER TABLE dbo.Temporal\n",
                "SET (SYSTEM_VERSIONING = ON ( HISTORY_TABLE = dbo.TemporalHistory, DATA_CONSISTENCY_CHECK = ON ))"
            ],
            "metadata": {
                "azdata_cell_guid": "03bc5c94-1ac5-4466-b642-4dc7804b8e2c"
            },
            "outputs": [
                {
                    "output_type": "display_data",
                    "data": {
                        "text/html": "Commands completed successfully."
                    },
                    "metadata": {}
                },
                {
                    "output_type": "display_data",
                    "data": {
                        "text/html": "Total execution time: 00:00:00.286"
                    },
                    "metadata": {}
                }
            ],
            "execution_count": 27
        },
        {
            "cell_type": "code",
            "source": [
                "SELECT TemporalID, FirstName, LastName, StartTime, EndTime, StrongID, [TimeStamp],\n",
                "Case EndTime\n",
                "when '9999-12-31 23:59:59.9999999' then 'CURRENT'\n",
                "ELSE 'OUTDATED' END AS RowType\n",
                "FROM dbo.Temporal\n",
                "FOR SYSTEM_TIME ALL\n",
                "where TemporalID = 33\n",
                "order by StartTime desc"
            ],
            "metadata": {
                "azdata_cell_guid": "e8fba275-5cba-4e33-968e-a4350b718e51"
            },
            "outputs": [
                {
                    "output_type": "display_data",
                    "data": {
                        "text/html": "(5 rows affected)"
                    },
                    "metadata": {}
                },
                {
                    "output_type": "display_data",
                    "data": {
                        "text/html": "Total execution time: 00:00:00.016"
                    },
                    "metadata": {}
                },
                {
                    "output_type": "execute_result",
                    "execution_count": 28,
                    "data": {
                        "application/vnd.dataresource+json": {
                            "schema": {
                                "fields": [
                                    {
                                        "name": "TemporalID"
                                    },
                                    {
                                        "name": "FirstName"
                                    },
                                    {
                                        "name": "LastName"
                                    },
                                    {
                                        "name": "StartTime"
                                    },
                                    {
                                        "name": "EndTime"
                                    },
                                    {
                                        "name": "StrongID"
                                    },
                                    {
                                        "name": "TimeStamp"
                                    },
                                    {
                                        "name": "RowType"
                                    }
                                ]
                            },
                            "data": [
                                {
                                    "0": "33",
                                    "1": "John",
                                    "2": "Smith",
                                    "3": "2020-06-10 22:38:23.8354045",
                                    "4": "9999-12-31 23:59:59.9999999",
                                    "5": "95f56153-3b07-444d-8b12-4e9ca2506fd2",
                                    "6": "0x0000000000010CCD",
                                    "7": "CURRENT"
                                },
                                {
                                    "0": "33",
                                    "1": "John",
                                    "2": "Smith",
                                    "3": "2020-06-10 22:26:35.6995792",
                                    "4": "2020-06-10 22:38:23.8354045",
                                    "5": "NULL",
                                    "6": "0x0000000000010CAC",
                                    "7": "OUTDATED"
                                },
                                {
                                    "0": "33",
                                    "1": "John",
                                    "2": "Smith",
                                    "3": "2020-06-10 22:20:58.6225728",
                                    "4": "2020-06-10 22:24:55.2785476",
                                    "5": "NULL",
                                    "6": "0x000000000000C025",
                                    "7": "OUTDATED"
                                },
                                {
                                    "0": "33",
                                    "1": "Bob",
                                    "2": "May",
                                    "3": "2020-06-10 22:16:38.4111668",
                                    "4": "2020-06-10 22:20:58.6225728",
                                    "5": "NULL",
                                    "6": "0x000000000000C024",
                                    "7": "OUTDATED"
                                },
                                {
                                    "0": "33",
                                    "1": "Evan",
                                    "2": "Adams",
                                    "3": "2020-06-10 22:14:47.0568050",
                                    "4": "2020-06-10 22:16:38.4111668",
                                    "5": "NULL",
                                    "6": "0x000000000000C023",
                                    "7": "OUTDATED"
                                }
                            ]
                        },
                        "text/html": "<table><tr><th>TemporalID</th><th>FirstName</th><th>LastName</th><th>StartTime</th><th>EndTime</th><th>StrongID</th><th>TimeStamp</th><th>RowType</th></tr><tr><td>33</td><td>John</td><td>Smith</td><td>2020-06-10 22:38:23.8354045</td><td>9999-12-31 23:59:59.9999999</td><td>95f56153-3b07-444d-8b12-4e9ca2506fd2</td><td>0x0000000000010CCD</td><td>CURRENT</td></tr><tr><td>33</td><td>John</td><td>Smith</td><td>2020-06-10 22:26:35.6995792</td><td>2020-06-10 22:38:23.8354045</td><td>NULL</td><td>0x0000000000010CAC</td><td>OUTDATED</td></tr><tr><td>33</td><td>John</td><td>Smith</td><td>2020-06-10 22:20:58.6225728</td><td>2020-06-10 22:24:55.2785476</td><td>NULL</td><td>0x000000000000C025</td><td>OUTDATED</td></tr><tr><td>33</td><td>Bob</td><td>May</td><td>2020-06-10 22:16:38.4111668</td><td>2020-06-10 22:20:58.6225728</td><td>NULL</td><td>0x000000000000C024</td><td>OUTDATED</td></tr><tr><td>33</td><td>Evan</td><td>Adams</td><td>2020-06-10 22:14:47.0568050</td><td>2020-06-10 22:16:38.4111668</td><td>NULL</td><td>0x000000000000C023</td><td>OUTDATED</td></tr></table>"
                    },
                    "metadata": {}
                }
            ],
            "execution_count": 28
        },
        {
            "cell_type": "markdown",
            "source": [
                "# LIMPIANDO EL HISTORIAL"
            ],
            "metadata": {
                "azdata_cell_guid": "ce867343-5fa5-42bb-a655-2771a4a9c514"
            }
        },
        {
            "cell_type": "code",
            "source": [
                "ALTER TABLE dbo.Temporal\n",
                "SET (SYSTEM_VERSIONING = OFF)\n",
                "\n",
                "TRUNCATE TABLE dbo.TemporalHistory\n",
                "\n",
                "ALTER TABLE dbo.Temporal\n",
                "SET (SYSTEM_VERSIONING = ON ( HISTORY_TABLE = dbo.TemporalHistory, DATA_CONSISTENCY_CHECK = ON ))"
            ],
            "metadata": {
                "azdata_cell_guid": "37df1b01-c1d2-47ab-b3f5-6db7adac5ad2"
            },
            "outputs": [],
            "execution_count": null
        },
        {
            "cell_type": "markdown",
            "source": [
                "# DATA_CONSISTENCY_CHECK = ON \n",
                "\n",
                "Verifica que la tabla de historial propuesta cumpla con lo siguiente:\n",
                "- No Identidades\n",
                "- No Indices independientes\n",
                "- No Constraints\n",
                "- Tabla Principal tenga una llave primaria pero la historial no. \n",
                "- CDC no este encendido en la tabla historica\n",
                "- No llaves foraneas\n",
                ""
            ],
            "metadata": {
                "azdata_cell_guid": "ded27119-5c79-4157-b3ce-2244bfbe6595"
            }
        },
        {
            "cell_type": "markdown",
            "source": [
                "# Convertir Tabla Existente en Temporal"
            ],
            "metadata": {
                "azdata_cell_guid": "0992214f-dc6c-4444-88fa-df809abcde98"
            }
        },
        {
            "cell_type": "code",
            "source": [
                "EXECUTE dbo.TableToTemporal @Table2PartName = 'person.Person'"
            ],
            "metadata": {
                "azdata_cell_guid": "dda33da2-e391-49ba-a0bb-6c113f1c268d"
            },
            "outputs": [
                {
                    "output_type": "display_data",
                    "data": {
                        "text/html": "person.Person Is not a candidate for Temporal Table Conversion"
                    },
                    "metadata": {}
                },
                {
                    "output_type": "display_data",
                    "data": {
                        "text/html": "Total execution time: 00:00:00.002"
                    },
                    "metadata": {}
                }
            ],
            "execution_count": 31
        },
        {
            "cell_type": "code",
            "source": [
                "Alter Table person.Person \n",
                "set (system_versioning = off)\n",
                "\n",
                ""
            ],
            "metadata": {
                "azdata_cell_guid": "974e8843-080a-489c-831e-33d9b36f836e"
            },
            "outputs": [
                {
                    "output_type": "display_data",
                    "data": {
                        "text/html": "Commands completed successfully."
                    },
                    "metadata": {}
                },
                {
                    "output_type": "display_data",
                    "data": {
                        "text/html": "Total execution time: 00:00:00.007"
                    },
                    "metadata": {}
                }
            ],
            "execution_count": 32
        },
        {
            "cell_type": "code",
            "source": [
                "alter table person.person \n",
                "drop period for SYSTEM_TIME"
            ],
            "metadata": {
                "azdata_cell_guid": "f68ca9cd-ac2b-4be3-8923-f559169a6bfe"
            },
            "outputs": [
                {
                    "output_type": "display_data",
                    "data": {
                        "text/html": "Commands completed successfully."
                    },
                    "metadata": {}
                },
                {
                    "output_type": "display_data",
                    "data": {
                        "text/html": "Total execution time: 00:00:00.006"
                    },
                    "metadata": {}
                }
            ],
            "execution_count": 33
        },
        {
            "cell_type": "code",
            "source": [
                "drop table person.person_history"
            ],
            "metadata": {
                "azdata_cell_guid": "15c11b41-78fc-4e82-b447-fe104b6284f0"
            },
            "outputs": [
                {
                    "output_type": "display_data",
                    "data": {
                        "text/html": "Commands completed successfully."
                    },
                    "metadata": {}
                },
                {
                    "output_type": "display_data",
                    "data": {
                        "text/html": "Total execution time: 00:00:00.007"
                    },
                    "metadata": {}
                }
            ],
            "execution_count": 34
        },
        {
            "cell_type": "markdown",
            "source": [
                "# RESET - DO NOT RUN"
            ],
            "metadata": {
                "azdata_cell_guid": "659362ce-206c-4e83-8047-26ca5ade76f7"
            }
        },
        {
            "cell_type": "code",
            "source": [
                "alter TABLE dbo.Temporal\n",
                "set (system_versioning = off)\n",
                "DROP TABLE dbo.Temporal\n",
                "DROP TABLE dbo.TemporalHistory"
            ],
            "metadata": {
                "azdata_cell_guid": "ab7cded7-d7f9-4cd1-bdd0-9ab8f8e28754",
                "tags": []
            },
            "outputs": [],
            "execution_count": null
        }
    ]
}