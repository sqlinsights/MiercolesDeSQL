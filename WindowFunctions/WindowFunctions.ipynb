{
    "metadata": {
        "kernelspec": {
            "name": "SQL",
            "display_name": "SQL",
            "language": "sql"
        },
        "language_info": {
            "name": "sql",
            "version": ""
        }
    },
    "nbformat_minor": 2,
    "nbformat": 4,
    "cells": [
        {
            "cell_type": "markdown",
            "source": [
                "# WINDOW FUNCTIONS\n",
                "\n",
                "- ROW_NUMBER\n",
                "- RANK\n",
                "- DENSE_RANK\n",
                "- FIRST_VALUE\n",
                "- LAST_VALUE\n",
                "- CUME_DIST\n",
                "- PERCENT_RANK\n",
                "- NTILE\n",
                "- LEAD\n",
                "- LAG\n",
                "- PERCENTILE_CONT\n",
                "- PERCENTILE_DESC\n",
                "\n",
                "# OVER\n",
                "## Esta clausula es requerida para todas las funciones de ventana. Utiliza los parametros PARTITION BY & ORDER BY.\n",
                "---\n",
                "\n",
                "\n",
                "## Consulta Principal\n",
                "\n",
                "\n",
                "\n",
                "\n",
                "\n",
                "\n",
                "\n",
                "\n",
                "\n",
                "\n",
                "\n",
                "\n",
                ""
            ],
            "metadata": {
                "azdata_cell_guid": "4a550a1f-d117-4266-a952-079a064df0a0"
            }
        },
        {
            "cell_type": "code",
            "source": [
                "SELECT Distinct CONCAT_WS(' ', P.FirstName, P.LastName) AS SellerName\n",
                "  FROM [AdventureWorks2017].[Sales].[SalesOrderHeader] SH\n",
                "  JOIN Person.Person P ON P.BusinessEntityID = SH.SalesPersonID\n",
                ""
            ],
            "metadata": {
                "azdata_cell_guid": "621c2c3b-0952-4969-812a-6eaa0fe25236",
                "tags": []
            },
            "outputs": [],
            "execution_count": null
        },
        {
            "cell_type": "markdown",
            "source": [
                "# ROW_NUMBER() - Genera secuencia de numeros basados en partición y orden.\n",
                "## Objetivo:  Asignar ID a cada usario ordernado por Nombre y Apellido"
            ],
            "metadata": {
                "azdata_cell_guid": "f2b01869-8e0e-41aa-b9a6-8c635779e9cb"
            }
        },
        {
            "cell_type": "code",
            "source": [
                "With Sellers as \n",
                "(SELECT Distinct CONCAT_WS(' ', P.FirstName, P.LastName) AS SellerName\n",
                "  FROM [AdventureWorks2017].[Sales].[SalesOrderHeader] SH\n",
                "  JOIN Person.Person P ON P.BusinessEntityID = SH.SalesPersonID\n",
                ") Select ROW_NUMBER() OVER(Order BY SellerName) as SellerID, SellerName from Sellers"
            ],
            "metadata": {
                "azdata_cell_guid": "d5613126-487e-49e5-999d-b86e1cba0fce",
                "tags": []
            },
            "outputs": [],
            "execution_count": null
        },
        {
            "cell_type": "markdown",
            "source": [
                "## Objectivo: Asignar ID a cada vendedor, dividido alfabeticamente por la primera letra del apellido ordernado por nombre. "
            ],
            "metadata": {
                "azdata_cell_guid": "13880bb0-5922-4b23-8e07-80220e117256"
            }
        },
        {
            "cell_type": "code",
            "source": [
                "With Sellers as \n",
                "(SELECT Distinct  P.FirstName, P.LastName\n",
                "  FROM [AdventureWorks2017].[Sales].[SalesOrderHeader] SH\n",
                "  JOIN Person.Person P ON P.BusinessEntityID = SH.SalesPersonID\n",
                ") Select ROW_NUMBER() OVER(Partition By Left(LastName, 1) Order BY FirstName) as SellerID, LastName, FirstName from Sellers"
            ],
            "metadata": {
                "azdata_cell_guid": "ae7ce95c-5b1f-4991-8010-a36ba2fa933e",
                "tags": []
            },
            "outputs": [],
            "execution_count": null
        },
        {
            "cell_type": "markdown",
            "source": [
                "## Identificar Duplicados"
            ],
            "metadata": {
                "azdata_cell_guid": "b1c0e014-e462-4030-8039-9d5b81d65495"
            }
        },
        {
            "cell_type": "code",
            "source": [
                "select Product\n",
                ",Price\n",
                ",Category\n",
                ", Row_Number() OVER(PARTITION by Product Order By Price)  as RowID from (\n",
                "    Values ('Sport-100 Helmet, Red', '55.00', 'Helmets')\n",
                "          ,('Sport-100 Helmet, Blue', '55.00', 'Helmets')\n",
                "          ,('Sport-100 Helmet, Red', '55.00', 'Helmets')\n",
                "          ,('Long-Sleeve Logo Jersey, M', '35.00', 'Jerseys')\n",
                "          ,('Long-Sleeve Logo Jersey, L', '38.00', 'Jerseys')\n",
                "          ,('Long-Sleeve Logo Jersey, XL', '40.00', 'Jerseys')\n",
                ") as Inventory(Product,Price,Category)"
            ],
            "metadata": {
                "azdata_cell_guid": "dfb48113-ba3d-437e-881b-b9e0b09d8c1b",
                "tags": []
            },
            "outputs": [],
            "execution_count": null
        },
        {
            "cell_type": "markdown",
            "source": [
                "\n",
                "\n",
                "\n",
                "\n",
                "\n",
                "\n",
                "# NTILE - Divide en grupos iguales\n",
                "## Objectivo: Dividir el grupo de vendedores en 3 equipos."
            ],
            "metadata": {
                "azdata_cell_guid": "ca54a3f8-8aea-436d-b02e-b54bf2cdf2be"
            }
        },
        {
            "cell_type": "code",
            "source": [
                "With Sellers as \n",
                "(SELECT Distinct CONCAT_WS(' ', P.FirstName, P.LastName) AS SellerName\n",
                "  FROM [AdventureWorks2017].[Sales].[SalesOrderHeader] SH\n",
                "  JOIN Person.Person P ON P.BusinessEntityID = SH.SalesPersonID\n",
                ") Select NTILE(3) OVER(Order BY SellerName) as GroupID, SellerName from Sellers"
            ],
            "metadata": {
                "azdata_cell_guid": "cb972304-2097-417d-8a59-f1d6d55f96f5",
                "tags": []
            },
            "outputs": [],
            "execution_count": null
        },
        {
            "cell_type": "markdown",
            "source": [
                "## Objectivo: Dividir el grupo de vendedores en 3 equipos basado en ventas de mayor a menor, grupo 1 siendo el mejor en ventas."
            ],
            "metadata": {
                "azdata_cell_guid": "626f2187-4a47-40a0-a1a8-1435a282eb29"
            }
        },
        {
            "cell_type": "code",
            "source": [
                "With Sellers as \n",
                "(SELECT Distinct CONCAT_WS(' ', P.FirstName, P.LastName) AS SellerName\n",
                "    ,SUM(TotalDue) as SalesTotal\n",
                "  FROM [AdventureWorks2017].[Sales].[SalesOrderHeader] SH\n",
                "  JOIN Person.Person P ON P.BusinessEntityID = SH.SalesPersonID\n",
                "  GROUP BY CONCAT_WS(' ', P.FirstName, P.LastName)\n",
                ") Select NTILE(3) OVER(Order BY SalesTotal desc) as GroupID, SellerName, Concat('$',Format(SalesTotal,'#,0.00')) as SalesTotal from Sellers"
            ],
            "metadata": {
                "azdata_cell_guid": "a29f685d-1ac7-4a72-9eba-c898b1d23f2c",
                "tags": [
                    "hide_input"
                ]
            },
            "outputs": [],
            "execution_count": null
        },
        {
            "cell_type": "markdown",
            "source": [
                "# LEAD() & LAG() - Nos permite ver el registro anterior (Lag) y el proximo registro (Lead) basado en particion y sequencia. \n",
                "## Objetivo: Mostrar la diferencia entre la venta anterior y posterior a la venta X de un usuario especifico. "
            ],
            "metadata": {
                "azdata_cell_guid": "ded2650d-f493-4e5b-8d98-f3cca40d7f8b"
            }
        },
        {
            "cell_type": "code",
            "source": [
                "SELECT Distinct SalesOrderID, CONCAT_WS(' ', P.FirstName, P.LastName) AS SellerName\n",
                ", Cast(OrderDate as Date) as OrderDate, TotalDue\n",
                "  FROM [AdventureWorks2017].[Sales].[SalesOrderHeader] SH\n",
                "  JOIN Person.Person P ON P.BusinessEntityID = SH.SalesPersonID\n",
                "  where SalesPersonID = 277\n",
                "  order by SalesOrderID"
            ],
            "metadata": {
                "azdata_cell_guid": "4c3f488c-9246-46ac-9ffa-0f1635a623d7",
                "tags": []
            },
            "outputs": [],
            "execution_count": null
        },
        {
            "cell_type": "code",
            "source": [
                "SELECT  CONCAT_WS(' ', P.FirstName, P.LastName) AS SellerName\n",
                ", Cast(OrderDate as Date) as OrderDate \n",
                ", Lag(TotalDue) Over(Order by SalesOrderID) as PreviousSell\n",
                ", TotalDue\n",
                ", Lead(TotalDue) Over(Order by SalesOrderID) as NextSell\n",
                "  FROM [AdventureWorks2017].[Sales].[SalesOrderHeader] SH\n",
                "  JOIN Person.Person P ON P.BusinessEntityID = SH.SalesPersonID\n",
                "  where SalesPersonID = 277\n",
                "  order by SalesOrderID"
            ],
            "metadata": {
                "azdata_cell_guid": "4b612d0e-c449-4254-a8f9-36761bbcc0cd",
                "tags": []
            },
            "outputs": [],
            "execution_count": null
        },
        {
            "cell_type": "markdown",
            "source": [
                "# LAST_VALUE() & FIRST_VALUE() - Retorna el primer y ultimo valor de un grupo de datos en una partición y rango.\n",
                "## En adicion al uso de OVER, LAST_VALUE requiere el uso de  RANGE BETWEEN, lo cual puede utiliar los parametros UNBOUNDED PRECEEDING AND UNBOUNDED FOLLOWING.  "
            ],
            "metadata": {
                "azdata_cell_guid": "4f3be3c7-fd2a-4e3e-b053-9be565108dbf"
            }
        },
        {
            "cell_type": "code",
            "source": [
                "SELECT DISTINCT CONCAT_WS(' ', P.FirstName, P.LastName) AS SellerName\n",
                "    ,OrderDate, TotalDue\n",
                "  FROM [AdventureWorks2017].[Sales].[SalesOrderHeader] SH\n",
                "  JOIN Person.Person P ON P.BusinessEntityID = SH.SalesPersonID"
            ],
            "metadata": {
                "azdata_cell_guid": "9b7ee1f8-ed33-47a1-a31b-5a43ee5d08a4",
                "tags": []
            },
            "outputs": [],
            "execution_count": null
        },
        {
            "cell_type": "code",
            "source": [
                "SELECT DISTINCT CONCAT_WS(' ', P.FirstName, P.LastName) AS SellerName\n",
                "    ,FIRST_VALUE(TotalDue) OVER (PARTITION BY SalesPersonID ORDER BY SalesOrderID) AS FirstSale\n",
                "    ,LAST_VALUE(TotalDue) OVER (PARTITION BY SalesPersonID ORDER BY SalesOrderID\n",
                "    RANGE BETWEEN UNBOUNDED PRECEDING AND UNBOUNDED FOLLOWING ) AS LastSale\n",
                "  FROM [AdventureWorks2017].[Sales].[SalesOrderHeader] SH\n",
                "  JOIN Person.Person P ON P.BusinessEntityID = SH.SalesPersonID\n",
                "  "
            ],
            "metadata": {
                "azdata_cell_guid": "491497bc-0735-447f-9596-afd115415b51",
                "tags": [
                    "hide_input"
                ]
            },
            "outputs": [],
            "execution_count": null
        },
        {
            "cell_type": "markdown",
            "source": [
                "# PERCENT_RANK - Asigna una pocision como porciento del 0 al 1 basado en la particion y orden. "
            ],
            "metadata": {
                "azdata_cell_guid": "27802810-d296-45e0-8342-b3e71ebf1754"
            }
        },
        {
            "cell_type": "code",
            "source": [
                "With Sellers as \n",
                "(SELECT Distinct CONCAT_WS(' ', P.FirstName, P.LastName) AS SellerName\n",
                ", SUM(TotalDue) as TotalSales\n",
                "  FROM [AdventureWorks2017].[Sales].[SalesOrderHeader] SH\n",
                "  JOIN Person.Person P ON P.BusinessEntityID = SH.SalesPersonID\n",
                "  group by CONCAT_WS(' ', P.FirstName, P.LastName)\n",
                ") Select SellerName, TotalSales, PERCENT_RANK() OVER(ORDER by TotalSales) from Sellers\n",
                ""
            ],
            "metadata": {
                "azdata_cell_guid": "72310b3b-d600-4505-8348-b5842832da5c",
                "tags": []
            },
            "outputs": [],
            "execution_count": null
        },
        {
            "cell_type": "markdown",
            "source": [
                "# RANK() - Asigna un valor basado en la combinacion de particion y orden. Este valor puede ser duplicado si el rango es equitativo.\n",
                "\n",
                "|Product | Price | Category|\n",
                "|---|---|---|\n",
                "|Sport-100 Helmet, Red|\t55.00\t|Helmets\n",
                "Sport-100 Helmet, Blue |\t55.00\t|Helmets\n",
                "Sport-100 Helmet, Green|\t55.00\t|Helmets\n",
                "Long-Sleeve Logo Jersey, M\t|35.00\t|Jerseys\n",
                "Long-Sleeve Logo Jersey, L\t|38.00\t|Jerseys\n",
                "Long-Sleeve Logo Jersey, XL\t|40.00\t|Jerseys"
            ],
            "metadata": {
                "azdata_cell_guid": "8c9d0b41-437a-4de5-8ec0-ed9eda763a80"
            }
        },
        {
            "cell_type": "code",
            "source": [
                "select Product\n",
                ",Price\n",
                ",Category\n",
                ", Rank() OVER(ORDER BY Price DESC)  as Ranking \n",
                " from (\n",
                "    Values ('Sport-100 Helmet, Red', '55.00', 'Helmets')\n",
                "          ,('Sport-100 Helmet, Blue', '55.00', 'Helmets')\n",
                "          ,('Sport-100 Helmet, Green', '55.00', 'Helmets')\n",
                "          ,('Long-Sleeve Logo Jersey, M', '35.00', 'Jerseys')\n",
                "          ,('Long-Sleeve Logo Jersey, L', '38.00', 'Jerseys')\n",
                "          ,('Long-Sleeve Logo Jersey, XL', '40.00', 'Jerseys')\n",
                ") as Inventory(Product,Price,Category)"
            ],
            "metadata": {
                "azdata_cell_guid": "1a1e5348-c6d1-4260-b2e7-d83d7a159eea",
                "tags": []
            },
            "outputs": [],
            "execution_count": null
        },
        {
            "cell_type": "markdown",
            "source": [
                "# DENSE_RANK - Similar a RANK() sin espacios entre las secuencias"
            ],
            "metadata": {
                "azdata_cell_guid": "837b57f2-feed-495b-bfcd-49d8550136d9"
            }
        },
        {
            "cell_type": "code",
            "source": [
                "select Product\n",
                ",Price\n",
                ",Category\n",
                ", Rank() OVER(ORDER BY Price DESC)  as Ranking \n",
                ", DENSE_Rank() OVER(ORDER BY Price desc)  as DenseRanking \n",
                " from (\n",
                "    Values ('Sport-100 Helmet, Red', '55.00', 'Helmets')\n",
                "          ,('Sport-100 Helmet, Blue', '55.00', 'Helmets')\n",
                "          ,('Sport-100 Helmet, Green', '55.00', 'Helmets')\n",
                "          ,('Long-Sleeve Logo Jersey, M', '35.00', 'Jerseys')\n",
                "          ,('Long-Sleeve Logo Jersey, L', '38.00', 'Jerseys')\n",
                "          ,('Long-Sleeve Logo Jersey, XL', '40.00', 'Jerseys')\n",
                ") as Inventory(Product,Price,Category)"
            ],
            "metadata": {
                "azdata_cell_guid": "c70c9a27-6520-490e-81b7-357eb4ef9893",
                "tags": []
            },
            "outputs": [],
            "execution_count": null
        },
        {
            "cell_type": "markdown",
            "source": [
                "# CUME_DIST() - Muestra la distribución acumulada de un grupo de valores. Basicamente muestra la pocision de un valor en relacion al valor grupal. "
            ],
            "metadata": {
                "azdata_cell_guid": "e3e48a65-f6bb-4ef9-88ab-37c562e67e62"
            }
        },
        {
            "cell_type": "code",
            "source": [
                "With Sellers as \n",
                "(SELECT  Distinct CONCAT_WS(' ', P.FirstName, P.LastName) AS SellerName\n",
                ", SUM(TotalDue) as TotalSales\n",
                "  FROM [AdventureWorks2017].[Sales].[SalesOrderHeader] SH\n",
                "  JOIN Person.Person P ON P.BusinessEntityID = SH.SalesPersonID\n",
                "  group by CONCAT_WS(' ', P.FirstName, P.LastName)\n",
                ") Select SellerName, TotalSales\n",
                ", CAST(CUME_DIST() OVER(ORDER by TotalSales) AS DECIMAL(8,3)) AS Distance \n",
                "from Sellers"
            ],
            "metadata": {
                "azdata_cell_guid": "ba56c398-f7e0-4eb2-864a-553086f3ea82",
                "tags": []
            },
            "outputs": [],
            "execution_count": null
        },
        {
            "cell_type": "markdown",
            "source": [
                "# PERCENTILE_CONT() - Calcula el porcentaje basado en una distribución continua. Los resultados son interpolados y puede que no concuerden con un valor en el set de datos. \n",
                "## Requiere el uso de la clausula OVER y la clausula WITHIN GROUP"
            ],
            "metadata": {
                "azdata_cell_guid": "e03792e2-8c73-46a8-b673-0bc77b722d53"
            }
        },
        {
            "cell_type": "code",
            "source": [
                "\n",
                "SELECT Distinct P.BusinessEntityID, CONCAT_WS(' ', P.FirstName, P.LastName) AS SellerName, D.Name as Department, CS.CurrentSalary\n",
                "FROM Person.Person P\n",
                "    join HumanResources.Employee E on E.BusinessEntityID = P.BusinessEntityID\n",
                "    join HumanResources.EmployeeDepartmentHistory EDH on EDH.BusinessEntityID = E.BusinessEntityID and EndDate is NULL\n",
                "    join HumanResources.Department D on D.DepartmentID = EDH.DepartmentID\n",
                "    CROSS APPLY\n",
                "    (\n",
                "        Select LAST_VALUE(Rate) OVER(ORDER BY RateChangeDate RANGE BETWEEN UNBOUNDED PRECEDING AND UNBOUNDED FOLLOWING) as CurrentSalary\n",
                "        from HumanResources.EmployeePayHistory EPH\n",
                "        where EPH.BusinessEntityID = P.BusinessEntityID\n",
                "    ) as CS\n",
                ""
            ],
            "metadata": {
                "azdata_cell_guid": "ed53af09-0556-4ebd-95ad-98707fccdf4a",
                "tags": []
            },
            "outputs": [],
            "execution_count": null
        },
        {
            "cell_type": "code",
            "source": [
                "With SalaryData as \n",
                "(SELECT Distinct P.BusinessEntityID, CONCAT_WS(' ', P.FirstName, P.LastName) AS SellerName, D.Name as Department, CS.CurrentSalary\n",
                "FROM Person.Person P\n",
                "    join HumanResources.Employee E on E.BusinessEntityID = P.BusinessEntityID\n",
                "    join HumanResources.EmployeeDepartmentHistory EDH on EDH.BusinessEntityID = E.BusinessEntityID and EndDate is NULL\n",
                "    join HumanResources.Department D on D.DepartmentID = EDH.DepartmentID\n",
                "    CROSS APPLY\n",
                "    (\n",
                "        Select LAST_VALUE(Rate) OVER(ORDER BY RateChangeDate RANGE BETWEEN UNBOUNDED PRECEDING AND UNBOUNDED FOLLOWING) as CurrentSalary\n",
                "        from HumanResources.EmployeePayHistory EPH\n",
                "        where EPH.BusinessEntityID = P.BusinessEntityID\n",
                "    ) as CS\n",
                ") Select DISTINCT Department,\n",
                "PERCENTILE_CONT(.5) WITHIN GROUP(ORDER BY CurrentSalary) OVER(PARTITION BY Department) 'Median-Interpolado'\n",
                ",PERCENTILE_DISC(.5) WITHIN GROUP(ORDER BY CurrentSalary) OVER(PARTITION BY Department) 'Median-Desc' from SalaryData\n",
                ""
            ],
            "metadata": {
                "azdata_cell_guid": "d16c90ec-55cc-4111-8897-52a0dc746d65",
                "tags": []
            },
            "outputs": [],
            "execution_count": null
        },
        {
            "cell_type": "markdown",
            "source": [
                "## Verificación"
            ],
            "metadata": {
                "azdata_cell_guid": "554b1018-683a-41eb-bfa8-11894a0652d8"
            }
        },
        {
            "cell_type": "code",
            "source": [
                "With SalaryData as \n",
                "(SELECT Distinct P.BusinessEntityID, CONCAT_WS(' ', P.FirstName, P.LastName) AS SellerName, D.Name as Department, CS.CurrentSalary\n",
                "FROM Person.Person P\n",
                "    join HumanResources.Employee E on E.BusinessEntityID = P.BusinessEntityID\n",
                "    join HumanResources.EmployeeDepartmentHistory EDH on EDH.BusinessEntityID = E.BusinessEntityID and EndDate is NULL\n",
                "    join HumanResources.Department D on D.DepartmentID = EDH.DepartmentID\n",
                "    CROSS APPLY\n",
                "    (\n",
                "        Select LAST_VALUE(Rate) OVER(ORDER BY RateChangeDate RANGE BETWEEN UNBOUNDED PRECEDING AND UNBOUNDED FOLLOWING) as CurrentSalary\n",
                "        from HumanResources.EmployeePayHistory EPH\n",
                "        where EPH.BusinessEntityID = P.BusinessEntityID\n",
                "    ) as CS\n",
                "), Valores as ( Select DISTINCT Department,\n",
                "PERCENTILE_CONT(.5) WITHIN GROUP(ORDER BY CurrentSalary) OVER(PARTITION BY Department) 'Median-Interpolado'\n",
                ",PERCENTILE_DISC(.5) WITHIN GROUP(ORDER BY CurrentSalary) OVER(PARTITION BY Department) 'Median-Desc' from SalaryData\n",
                "\n",
                ")\n",
                "Select Department, [Median-Interpolado], [Median-Desc], MBC.MatchedByCONT, MBD.MatchedByDESC from Valores\n",
                "outer APPLY (select count(1) as MatchedByCONT from SalaryData where CurrentSalary = [Median-Interpolado] and Valores.Department = SalaryData.Department) MBC\n",
                "outer APPLY (select count(1) as MatchedByDESC from SalaryData where CurrentSalary = [Median-Desc] and Valores.Department = SalaryData.Department) MBD\n",
                ""
            ],
            "metadata": {
                "azdata_cell_guid": "d637e451-714f-4ab5-bbfb-211e9c6c5b32",
                "tags": []
            },
            "outputs": [],
            "execution_count": null
        },
        {
            "cell_type": "markdown",
            "source": [
                "# Uso de OVER en funciones de para obtener valores corrientes."
            ],
            "metadata": {
                "azdata_cell_guid": "02e7f0c7-8d73-45ed-a1a6-96e6350e1b45"
            }
        },
        {
            "cell_type": "code",
            "source": [
                "SELECT SalesPersonID, CONCAT_WS(' ', P.FirstName, P.LastName) AS SellerName\n",
                ",SH.OrderDate , TotalDue as OrderTotal\n",
                ", SUM(TotalDue) Over(Partition by SalesPersonID Order by SalesOrderID) as RunningTotalSales\n",
                ", SUM(TotalDue) Over(Partition by SalesPersonID) as TotalSales\n",
                "  FROM [AdventureWorks2017].[Sales].[SalesOrderHeader] SH\n",
                "  JOIN Person.Person P ON P.BusinessEntityID = SH.SalesPersonID\n",
                "  order by SalesPersonID, SalesOrderID\n",
                ""
            ],
            "metadata": {
                "azdata_cell_guid": "0c2671e7-846b-4a4c-9a01-a3f72fd5c614",
                "tags": []
            },
            "outputs": [],
            "execution_count": null
        },
        {
            "cell_type": "markdown",
            "source": [
                "# Reporte De Ventas"
            ],
            "metadata": {
                "azdata_cell_guid": "4d4fb286-3e43-4340-8565-488e06e4f22c"
            }
        },
        {
            "cell_type": "code",
            "source": [
                "With\n",
                "    ReportData\n",
                "    as\n",
                "    (\n",
                "        SELECT SalesPersonID, CONCAT_WS(' ', P.FirstName, P.LastName) AS SellerName\n",
                ", SH.OrderDate , TotalDue as OrderTotal\n",
                ", SalesOrderID\n",
                ", SUM(TotalDue) Over(Partition by SalesPersonID Order by SalesOrderID) as RunningTotalSales\n",
                ", SUM(TotalDue) Over(Partition by SalesPersonID) as TotalSales\n",
                ", AVG(TotalDue) Over(Partition by SalesPersonID) as AverageSalesAmount\n",
                ", FIRST_VALUE(TotalDue) Over(Partition by SalesPersonID Order by SalesOrderID) AS FirstOrderTotal\n",
                ", FIRST_VALUE(OrderDate) Over(Partition by SalesPersonID Order by SalesOrderID) AS FirstOrderDate\n",
                ", LAST_VALUE(TotalDue) Over(Partition by SalesPersonID Order by SalesOrderID RANGE BETWEEN UNBOUNDED PRECEDING AND UNBOUNDED FOLLOWING) AS LastOrderTotal\n",
                ", LAST_VALUE(OrderDate) Over(Partition by SalesPersonID Order by SalesOrderID RANGE BETWEEN UNBOUNDED PRECEDING AND UNBOUNDED FOLLOWING) AS LastOrderDate\n",
                "        FROM [AdventureWorks2017].[Sales].[SalesOrderHeader] SH\n",
                "            JOIN Person.Person P ON P.BusinessEntityID = SH.SalesPersonID\n",
                "    )\n",
                "Select SellerName\n",
                ", OrderDate\n",
                ", OrderTotal\n",
                ", RunningTotalSales\n",
                ", TotalSales\n",
                ", AverageSalesAmount\n",
                ", FirstOrderDate\n",
                ", FirstOrderTotal\n",
                ", LastOrderDate\n",
                ", LastOrderTotal\n",
                ",NTILE(3) OVER(Order BY TotalSales desc) as SalesAmountTier\n",
                "from ReportData\n",
                "ORDER by SalesPersonID, SalesOrderID\n",
                ""
            ],
            "metadata": {
                "azdata_cell_guid": "8902e4b3-c4f7-4e37-a2f6-b1dae2d73746",
                "tags": []
            },
            "outputs": [],
            "execution_count": null
        },
        {
            "cell_type": "markdown",
            "source": [
                "![Sales Report by Seller and Running Total](SalesReportByRunningValues.png)"
            ],
            "metadata": {
                "azdata_cell_guid": "0ca9bcf8-76e8-4b63-b62e-0e7a233b42f5"
            }
        }
    ]
}